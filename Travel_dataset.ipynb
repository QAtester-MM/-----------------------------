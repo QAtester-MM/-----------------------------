{
  "nbformat": 4,
  "nbformat_minor": 0,
  "metadata": {
    "colab": {
      "name": "Travel_dataset.ipynb",
      "provenance": [],
      "collapsed_sections": [],
      "authorship_tag": "ABX9TyMFVC16nRTvGlcOAziXN5YB"
    },
    "kernelspec": {
      "name": "python3",
      "display_name": "Python 3"
    },
    "language_info": {
      "name": "python"
    }
  },
  "cells": [
    {
      "cell_type": "markdown",
      "metadata": {
        "id": "z8SpClB8mSHh"
      },
      "source": [
        "День 1\n",
        "Сегодня:\n",
        "\n",
        "— Работа в Google Colab\n",
        "\n",
        "— Введение в python, pandas\n",
        "\n",
        "Файл с данными: trips_data.xlsx\n",
        "\n",
        "https://drive.google.com/file/d/18Hyh1l9H3bR556W1tO2vKwpfAqZPueEp/view"
      ]
    },
    {
      "cell_type": "code",
      "metadata": {
        "id": "tAYbX1NkkHzD"
      },
      "source": [
        "import pandas\n"
      ],
      "execution_count": 7,
      "outputs": []
    },
    {
      "cell_type": "code",
      "metadata": {
        "id": "D8hY2nT1kd2S"
      },
      "source": [
        "trips_data = pandas.read_excel(\"/content/trips_data.xlsx\", index_col=0)"
      ],
      "execution_count": 8,
      "outputs": []
    },
    {
      "cell_type": "code",
      "metadata": {
        "id": "tlmzPDZMkdkD"
      },
      "source": [
        "trips_data = pandas.read_excel(\"/content/trips_data.xlsx\", index_col=0)"
      ],
      "execution_count": 10,
      "outputs": []
    },
    {
      "cell_type": "code",
      "metadata": {
        "colab": {
          "base_uri": "https://localhost:8080/",
          "height": 136
        },
        "id": "Ixm60KqOkGFE",
        "outputId": "5d4ecf53-53af-4bdc-821b-cf8010987e23"
      },
      "source": [
        "trips_data.head(3)"
      ],
      "execution_count": 11,
      "outputs": [
        {
          "output_type": "execute_result",
          "data": {
            "text/html": [
              "<div>\n",
              "<style scoped>\n",
              "    .dataframe tbody tr th:only-of-type {\n",
              "        vertical-align: middle;\n",
              "    }\n",
              "\n",
              "    .dataframe tbody tr th {\n",
              "        vertical-align: top;\n",
              "    }\n",
              "\n",
              "    .dataframe thead th {\n",
              "        text-align: right;\n",
              "    }\n",
              "</style>\n",
              "<table border=\"1\" class=\"dataframe\">\n",
              "  <thead>\n",
              "    <tr style=\"text-align: right;\">\n",
              "      <th></th>\n",
              "      <th>salary</th>\n",
              "      <th>city</th>\n",
              "      <th>age</th>\n",
              "      <th>vacation_preference</th>\n",
              "      <th>transport_preference</th>\n",
              "      <th>family_members</th>\n",
              "      <th>target</th>\n",
              "    </tr>\n",
              "  </thead>\n",
              "  <tbody>\n",
              "    <tr>\n",
              "      <th>0</th>\n",
              "      <td>196000</td>\n",
              "      <td>Краснодар</td>\n",
              "      <td>25</td>\n",
              "      <td>Шоппинг</td>\n",
              "      <td>Автомобиль</td>\n",
              "      <td>1</td>\n",
              "      <td>New York</td>\n",
              "    </tr>\n",
              "    <tr>\n",
              "      <th>1</th>\n",
              "      <td>152000</td>\n",
              "      <td>Екатеринбург</td>\n",
              "      <td>60</td>\n",
              "      <td>Архитектура</td>\n",
              "      <td>Самолет</td>\n",
              "      <td>1</td>\n",
              "      <td>London</td>\n",
              "    </tr>\n",
              "    <tr>\n",
              "      <th>2</th>\n",
              "      <td>83000</td>\n",
              "      <td>Томск</td>\n",
              "      <td>49</td>\n",
              "      <td>Архитектура</td>\n",
              "      <td>Автомобиль</td>\n",
              "      <td>2</td>\n",
              "      <td>Sydney</td>\n",
              "    </tr>\n",
              "  </tbody>\n",
              "</table>\n",
              "</div>"
            ],
            "text/plain": [
              "   salary          city  age  ... transport_preference family_members    target\n",
              "0  196000     Краснодар   25  ...           Автомобиль              1  New York\n",
              "1  152000  Екатеринбург   60  ...              Самолет              1    London\n",
              "2   83000         Томск   49  ...           Автомобиль              2    Sydney\n",
              "\n",
              "[3 rows x 7 columns]"
            ]
          },
          "metadata": {
            "tags": []
          },
          "execution_count": 11
        }
      ]
    },
    {
      "cell_type": "markdown",
      "metadata": {
        "id": "H-pjO1HR7h2-"
      },
      "source": [
        "#Изучим подробнее зарплаты, возраст и предпочтения"
      ]
    },
    {
      "cell_type": "code",
      "metadata": {
        "colab": {
          "base_uri": "https://localhost:8080/"
        },
        "id": "RecNKt0f7g6r",
        "outputId": "669e07f8-aebb-4753-9678-75320dafdb19"
      },
      "source": [
        "trips_data[\"salary\"].describe()"
      ],
      "execution_count": 12,
      "outputs": [
        {
          "output_type": "execute_result",
          "data": {
            "text/plain": [
              "count      1000.000000\n",
              "mean     111935.000000\n",
              "std       54580.049073\n",
              "min           0.000000\n",
              "25%       68000.000000\n",
              "50%       99000.000000\n",
              "75%      161000.000000\n",
              "max      250000.000000\n",
              "Name: salary, dtype: float64"
            ]
          },
          "metadata": {
            "tags": []
          },
          "execution_count": 12
        }
      ]
    },
    {
      "cell_type": "code",
      "metadata": {
        "colab": {
          "base_uri": "https://localhost:8080/",
          "height": 282
        },
        "id": "o6oLEDuF8QnI",
        "outputId": "3bc5e696-cb16-4856-dd9b-756fb9977607"
      },
      "source": [
        "trips_data[\"salary\"].hist()"
      ],
      "execution_count": 13,
      "outputs": [
        {
          "output_type": "execute_result",
          "data": {
            "text/plain": [
              "<matplotlib.axes._subplots.AxesSubplot at 0x7fdfd9184b10>"
            ]
          },
          "metadata": {
            "tags": []
          },
          "execution_count": 13
        },
        {
          "output_type": "display_data",
          "data": {
            "image/png": "[encoded data removed]",
            "text/plain": [
              "<Figure size 432x288 with 1 Axes>"
            ]
          },
          "metadata": {
            "tags": [],
            "needs_background": "light"
          }
        }
      ]
    },
    {
      "cell_type": "code",
      "metadata": {
        "colab": {
          "base_uri": "https://localhost:8080/"
        },
        "id": "zsxnSvXW8sW1",
        "outputId": "601467a2-34e2-46b4-8d3f-2219fa56d2ec"
      },
      "source": [
        "trips_data[\"age\"].describe()"
      ],
      "execution_count": 14,
      "outputs": [
        {
          "output_type": "execute_result",
          "data": {
            "text/plain": [
              "count    1000.000000\n",
              "mean       55.209000\n",
              "std        11.925164\n",
              "min        18.000000\n",
              "25%        50.000000\n",
              "50%        58.000000\n",
              "75%        63.000000\n",
              "max        82.000000\n",
              "Name: age, dtype: float64"
            ]
          },
          "metadata": {
            "tags": []
          },
          "execution_count": 14
        }
      ]
    },
    {
      "cell_type": "code",
      "metadata": {
        "colab": {
          "base_uri": "https://localhost:8080/",
          "height": 282
        },
        "id": "jMhY1B0Y8wCI",
        "outputId": "4bc5e614-4399-43c8-f96e-48a0417bf0fe"
      },
      "source": [
        "trips_data[\"age\"].hist()"
      ],
      "execution_count": 15,
      "outputs": [
        {
          "output_type": "execute_result",
          "data": {
            "text/plain": [
              "<matplotlib.axes._subplots.AxesSubplot at 0x7fdfd2e3d2d0>"
            ]
          },
          "metadata": {
            "tags": []
          },
          "execution_count": 15
        },
        {
          "output_type": "display_data",
          "data": {
            "image/png": "[encoded data removed]",
            "text/plain": [
              "<Figure size 432x288 with 1 Axes>"
            ]
          },
          "metadata": {
            "tags": [],
            "needs_background": "light"
          }
        }
      ]
    },
    {
      "cell_type": "code",
      "metadata": {
        "colab": {
          "base_uri": "https://localhost:8080/"
        },
        "id": "jIxFl60t87qc",
        "outputId": "33723d79-96e9-478f-f373-7d0f90e4a920"
      },
      "source": [
        "trips_data[\"city\"].value_counts()"
      ],
      "execution_count": 16,
      "outputs": [
        {
          "output_type": "execute_result",
          "data": {
            "text/plain": [
              "Краснодар       307\n",
              "Томск           267\n",
              "Хабаровск       107\n",
              "Киев            106\n",
              "Омск             84\n",
              "Екатеринбург     67\n",
              "Новосибирск      33\n",
              "Минск            14\n",
              "Петербург        13\n",
              "Ярославль         1\n",
              "Москва            1\n",
              "Name: city, dtype: int64"
            ]
          },
          "metadata": {
            "tags": []
          },
          "execution_count": 16
        }
      ]
    },
    {
      "cell_type": "code",
      "metadata": {
        "colab": {
          "base_uri": "https://localhost:8080/",
          "height": 345
        },
        "id": "eayWKtBy89qW",
        "outputId": "d4b8eb24-c49e-4b2f-e124-f473e92af045"
      },
      "source": [
        "trips_data[\"city\"].value_counts().plot(kind=\"bar\")"
      ],
      "execution_count": 17,
      "outputs": [
        {
          "output_type": "execute_result",
          "data": {
            "text/plain": [
              "<matplotlib.axes._subplots.AxesSubplot at 0x7fdfd2ca9690>"
            ]
          },
          "metadata": {
            "tags": []
          },
          "execution_count": 17
        },
        {
          "output_type": "display_data",
          "data": {
            "image/png": "[encoded data removed]",
            "text/plain": [
              "<Figure size 432x288 with 1 Axes>"
            ]
          },
          "metadata": {
            "tags": [],
            "needs_background": "light"
          }
        }
      ]
    },
    {
      "cell_type": "code",
      "metadata": {
        "colab": {
          "base_uri": "https://localhost:8080/"
        },
        "id": "u65L-DxT9UtU",
        "outputId": "45ebb321-8e19-488f-ce8e-4cd15af78609"
      },
      "source": [
        "trips_data[\"vacation_preference\"].value_counts()"
      ],
      "execution_count": 21,
      "outputs": [
        {
          "output_type": "execute_result",
          "data": {
            "text/plain": [
              "Архитектура      457\n",
              "Шоппинг          334\n",
              "Пляжный отдых    208\n",
              "Ночные клубы       1\n",
              "Name: vacation_preference, dtype: int64"
            ]
          },
          "metadata": {
            "tags": []
          },
          "execution_count": 21
        }
      ]
    },
    {
      "cell_type": "code",
      "metadata": {
        "colab": {
          "base_uri": "https://localhost:8080/",
          "height": 358
        },
        "id": "tIzjb-wi9E9d",
        "outputId": "56707f8f-969e-4436-c9bf-8b4bda62cb4a"
      },
      "source": [
        "trips_data[\"vacation_preference\"].value_counts().plot(kind=\"bar\")"
      ],
      "execution_count": 18,
      "outputs": [
        {
          "output_type": "execute_result",
          "data": {
            "text/plain": [
              "<matplotlib.axes._subplots.AxesSubplot at 0x7fdfd2c472d0>"
            ]
          },
          "metadata": {
            "tags": []
          },
          "execution_count": 18
        },
        {
          "output_type": "display_data",
          "data": {
            "image/png": "[encoded data removed]",
            "text/plain": [
              "<Figure size 432x288 with 1 Axes>"
            ]
          },
          "metadata": {
            "tags": [],
            "needs_background": "light"
          }
        }
      ]
    },
    {
      "cell_type": "code",
      "metadata": {
        "colab": {
          "base_uri": "https://localhost:8080/"
        },
        "id": "Y4Csu6sy9M0h",
        "outputId": "d188d965-d04e-47d9-9339-d2478dec3af2"
      },
      "source": [
        "trips_data[\"transport_preference\"].value_counts()"
      ],
      "execution_count": 20,
      "outputs": [
        {
          "output_type": "execute_result",
          "data": {
            "text/plain": [
              "Самолет                389\n",
              "Автомобиль             379\n",
              "Поезд                  148\n",
              "Морской транспорт       83\n",
              "Космический корабль      1\n",
              "Name: transport_preference, dtype: int64"
            ]
          },
          "metadata": {
            "tags": []
          },
          "execution_count": 20
        }
      ]
    },
    {
      "cell_type": "code",
      "metadata": {
        "colab": {
          "base_uri": "https://localhost:8080/",
          "height": 387
        },
        "id": "xYFFMmmp9KMY",
        "outputId": "bd31eb95-57da-4793-b582-84cd42200549"
      },
      "source": [
        "trips_data[\"transport_preference\"].value_counts().plot(kind=\"bar\")"
      ],
      "execution_count": 19,
      "outputs": [
        {
          "output_type": "execute_result",
          "data": {
            "text/plain": [
              "<matplotlib.axes._subplots.AxesSubplot at 0x7fdfd2bad2d0>"
            ]
          },
          "metadata": {
            "tags": []
          },
          "execution_count": 19
        },
        {
          "output_type": "display_data",
          "data": {
            "image/png": "[encoded data removed]",
            "text/plain": [
              "<Figure size 432x288 with 1 Axes>"
            ]
          },
          "metadata": {
            "tags": [],
            "needs_background": "light"
          }
        }
      ]
    },
    {
      "cell_type": "code",
      "metadata": {
        "colab": {
          "base_uri": "https://localhost:8080/"
        },
        "id": "PYNZ8FUs9jHp",
        "outputId": "2260f286-8b38-4766-8d3d-698cd832cf94"
      },
      "source": [
        "trips_data.groupby(by=[\"vacation_preference\", \"target\"])[\"salary\"].count()"
      ],
      "execution_count": 22,
      "outputs": [
        {
          "output_type": "execute_result",
          "data": {
            "text/plain": [
              "vacation_preference  target  \n",
              "Архитектура          London      128\n",
              "                     New York     81\n",
              "                     Paris        93\n",
              "                     Sydney       74\n",
              "                     Tokio        81\n",
              "Ночные клубы         New York      1\n",
              "Пляжный отдых        London       70\n",
              "                     New York      1\n",
              "                     Paris        40\n",
              "                     Sydney       51\n",
              "                     Tokio        46\n",
              "Шоппинг              London        1\n",
              "                     New York    118\n",
              "                     Paris        70\n",
              "                     Sydney       73\n",
              "                     Tokio        72\n",
              "Name: salary, dtype: int64"
            ]
          },
          "metadata": {
            "tags": []
          },
          "execution_count": 22
        }
      ]
    },
    {
      "cell_type": "code",
      "metadata": {
        "colab": {
          "base_uri": "https://localhost:8080/",
          "height": 432
        },
        "id": "XcsxLkyE9l1X",
        "outputId": "99b83944-b460-4fae-9ecd-293728214d41"
      },
      "source": [
        "trips_data.groupby(by=[\"vacation_preference\", \"target\"])[\"salary\"].count().plot(kind=\"bar\")"
      ],
      "execution_count": 24,
      "outputs": [
        {
          "output_type": "execute_result",
          "data": {
            "text/plain": [
              "<matplotlib.axes._subplots.AxesSubplot at 0x7fdfd2ab4050>"
            ]
          },
          "metadata": {
            "tags": []
          },
          "execution_count": 24
        },
        {
          "output_type": "display_data",
          "data": {
            "image/png": "[encoded data removed]",
            "text/plain": [
              "<Figure size 432x288 with 1 Axes>"
            ]
          },
          "metadata": {
            "tags": [],
            "needs_background": "light"
          }
        }
      ]
    },
    {
      "cell_type": "code",
      "metadata": {
        "id": "4ny1lTXN-GMp"
      },
      "source": [
        ""
      ],
      "execution_count": null,
      "outputs": []
    },
    {
      "cell_type": "code",
      "metadata": {
        "colab": {
          "base_uri": "https://localhost:8080/",
          "height": 343
        },
        "id": "-nDqI8qr-Fkd",
        "outputId": "5f726ec9-aa49-4e5b-90bd-75aa30b990bf"
      },
      "source": [
        "trips_data.head(10)"
      ],
      "execution_count": 26,
      "outputs": [
        {
          "output_type": "execute_result",
          "data": {
            "text/html": [
              "<div>\n",
              "<style scoped>\n",
              "    .dataframe tbody tr th:only-of-type {\n",
              "        vertical-align: middle;\n",
              "    }\n",
              "\n",
              "    .dataframe tbody tr th {\n",
              "        vertical-align: top;\n",
              "    }\n",
              "\n",
              "    .dataframe thead th {\n",
              "        text-align: right;\n",
              "    }\n",
              "</style>\n",
              "<table border=\"1\" class=\"dataframe\">\n",
              "  <thead>\n",
              "    <tr style=\"text-align: right;\">\n",
              "      <th></th>\n",
              "      <th>salary</th>\n",
              "      <th>city</th>\n",
              "      <th>age</th>\n",
              "      <th>vacation_preference</th>\n",
              "      <th>transport_preference</th>\n",
              "      <th>family_members</th>\n",
              "      <th>target</th>\n",
              "    </tr>\n",
              "  </thead>\n",
              "  <tbody>\n",
              "    <tr>\n",
              "      <th>0</th>\n",
              "      <td>196000</td>\n",
              "      <td>Краснодар</td>\n",
              "      <td>25</td>\n",
              "      <td>Шоппинг</td>\n",
              "      <td>Автомобиль</td>\n",
              "      <td>1</td>\n",
              "      <td>New York</td>\n",
              "    </tr>\n",
              "    <tr>\n",
              "      <th>1</th>\n",
              "      <td>152000</td>\n",
              "      <td>Екатеринбург</td>\n",
              "      <td>60</td>\n",
              "      <td>Архитектура</td>\n",
              "      <td>Самолет</td>\n",
              "      <td>1</td>\n",
              "      <td>London</td>\n",
              "    </tr>\n",
              "    <tr>\n",
              "      <th>2</th>\n",
              "      <td>83000</td>\n",
              "      <td>Томск</td>\n",
              "      <td>49</td>\n",
              "      <td>Архитектура</td>\n",
              "      <td>Автомобиль</td>\n",
              "      <td>2</td>\n",
              "      <td>Sydney</td>\n",
              "    </tr>\n",
              "    <tr>\n",
              "      <th>3</th>\n",
              "      <td>161000</td>\n",
              "      <td>Краснодар</td>\n",
              "      <td>41</td>\n",
              "      <td>Шоппинг</td>\n",
              "      <td>Автомобиль</td>\n",
              "      <td>0</td>\n",
              "      <td>New York</td>\n",
              "    </tr>\n",
              "    <tr>\n",
              "      <th>4</th>\n",
              "      <td>146000</td>\n",
              "      <td>Краснодар</td>\n",
              "      <td>58</td>\n",
              "      <td>Архитектура</td>\n",
              "      <td>Самолет</td>\n",
              "      <td>1</td>\n",
              "      <td>Sydney</td>\n",
              "    </tr>\n",
              "    <tr>\n",
              "      <th>5</th>\n",
              "      <td>209000</td>\n",
              "      <td>Новосибирск</td>\n",
              "      <td>55</td>\n",
              "      <td>Архитектура</td>\n",
              "      <td>Самолет</td>\n",
              "      <td>2</td>\n",
              "      <td>Tokio</td>\n",
              "    </tr>\n",
              "    <tr>\n",
              "      <th>6</th>\n",
              "      <td>59000</td>\n",
              "      <td>Минск</td>\n",
              "      <td>53</td>\n",
              "      <td>Пляжный отдых</td>\n",
              "      <td>Автомобиль</td>\n",
              "      <td>1</td>\n",
              "      <td>London</td>\n",
              "    </tr>\n",
              "    <tr>\n",
              "      <th>7</th>\n",
              "      <td>73000</td>\n",
              "      <td>Хабаровск</td>\n",
              "      <td>55</td>\n",
              "      <td>Шоппинг</td>\n",
              "      <td>Поезд</td>\n",
              "      <td>2</td>\n",
              "      <td>New York</td>\n",
              "    </tr>\n",
              "    <tr>\n",
              "      <th>8</th>\n",
              "      <td>216000</td>\n",
              "      <td>Томск</td>\n",
              "      <td>75</td>\n",
              "      <td>Шоппинг</td>\n",
              "      <td>Самолет</td>\n",
              "      <td>1</td>\n",
              "      <td>Sydney</td>\n",
              "    </tr>\n",
              "    <tr>\n",
              "      <th>9</th>\n",
              "      <td>56000</td>\n",
              "      <td>Киев</td>\n",
              "      <td>60</td>\n",
              "      <td>Шоппинг</td>\n",
              "      <td>Автомобиль</td>\n",
              "      <td>2</td>\n",
              "      <td>New York</td>\n",
              "    </tr>\n",
              "  </tbody>\n",
              "</table>\n",
              "</div>"
            ],
            "text/plain": [
              "   salary          city  age  ... transport_preference family_members    target\n",
              "0  196000     Краснодар   25  ...           Автомобиль              1  New York\n",
              "1  152000  Екатеринбург   60  ...              Самолет              1    London\n",
              "2   83000         Томск   49  ...           Автомобиль              2    Sydney\n",
              "3  161000     Краснодар   41  ...           Автомобиль              0  New York\n",
              "4  146000     Краснодар   58  ...              Самолет              1    Sydney\n",
              "5  209000   Новосибирск   55  ...              Самолет              2     Tokio\n",
              "6   59000         Минск   53  ...           Автомобиль              1    London\n",
              "7   73000     Хабаровск   55  ...                Поезд              2  New York\n",
              "8  216000         Томск   75  ...              Самолет              1    Sydney\n",
              "9   56000          Киев   60  ...           Автомобиль              2  New York\n",
              "\n",
              "[10 rows x 7 columns]"
            ]
          },
          "metadata": {
            "tags": []
          },
          "execution_count": 26
        }
      ]
    },
    {
      "cell_type": "markdown",
      "metadata": {
        "id": "f1ogbrnU-kfB"
      },
      "source": [
        "#Преобразуем категориальные значения в бинарную систему"
      ]
    },
    {
      "cell_type": "code",
      "metadata": {
        "colab": {
          "base_uri": "https://localhost:8080/",
          "height": 489
        },
        "id": "mL-aMXid-kLI",
        "outputId": "20aa5b33-63ea-439c-d08b-314e9b031367"
      },
      "source": [
        "df = pandas.get_dummies(trips_data, columns=[\"city\", \"vacation_preference\", \"transport_preference\"])\n",
        "df \n",
        "# и теперь исходный  дата фрейм выглядит так:"
      ],
      "execution_count": 48,
      "outputs": [
        {
          "output_type": "execute_result",
          "data": {
            "text/html": [
              "<div>\n",
              "<style scoped>\n",
              "    .dataframe tbody tr th:only-of-type {\n",
              "        vertical-align: middle;\n",
              "    }\n",
              "\n",
              "    .dataframe tbody tr th {\n",
              "        vertical-align: top;\n",
              "    }\n",
              "\n",
              "    .dataframe thead th {\n",
              "        text-align: right;\n",
              "    }\n",
              "</style>\n",
              "<table border=\"1\" class=\"dataframe\">\n",
              "  <thead>\n",
              "    <tr style=\"text-align: right;\">\n",
              "      <th></th>\n",
              "      <th>salary</th>\n",
              "      <th>age</th>\n",
              "      <th>family_members</th>\n",
              "      <th>target</th>\n",
              "      <th>city_Екатеринбург</th>\n",
              "      <th>city_Киев</th>\n",
              "      <th>city_Краснодар</th>\n",
              "      <th>city_Минск</th>\n",
              "      <th>city_Москва</th>\n",
              "      <th>city_Новосибирск</th>\n",
              "      <th>city_Омск</th>\n",
              "      <th>city_Петербург</th>\n",
              "      <th>city_Томск</th>\n",
              "      <th>city_Хабаровск</th>\n",
              "      <th>city_Ярославль</th>\n",
              "      <th>vacation_preference_Архитектура</th>\n",
              "      <th>vacation_preference_Ночные клубы</th>\n",
              "      <th>vacation_preference_Пляжный отдых</th>\n",
              "      <th>vacation_preference_Шоппинг</th>\n",
              "      <th>transport_preference_Автомобиль</th>\n",
              "      <th>transport_preference_Космический корабль</th>\n",
              "      <th>transport_preference_Морской транспорт</th>\n",
              "      <th>transport_preference_Поезд</th>\n",
              "      <th>transport_preference_Самолет</th>\n",
              "    </tr>\n",
              "  </thead>\n",
              "  <tbody>\n",
              "    <tr>\n",
              "      <th>0</th>\n",
              "      <td>196000</td>\n",
              "      <td>25</td>\n",
              "      <td>1</td>\n",
              "      <td>New York</td>\n",
              "      <td>0</td>\n",
              "      <td>0</td>\n",
              "      <td>1</td>\n",
              "      <td>0</td>\n",
              "      <td>0</td>\n",
              "      <td>0</td>\n",
              "      <td>0</td>\n",
              "      <td>0</td>\n",
              "      <td>0</td>\n",
              "      <td>0</td>\n",
              "      <td>0</td>\n",
              "      <td>0</td>\n",
              "      <td>0</td>\n",
              "      <td>0</td>\n",
              "      <td>1</td>\n",
              "      <td>1</td>\n",
              "      <td>0</td>\n",
              "      <td>0</td>\n",
              "      <td>0</td>\n",
              "      <td>0</td>\n",
              "    </tr>\n",
              "    <tr>\n",
              "      <th>1</th>\n",
              "      <td>152000</td>\n",
              "      <td>60</td>\n",
              "      <td>1</td>\n",
              "      <td>London</td>\n",
              "      <td>1</td>\n",
              "      <td>0</td>\n",
              "      <td>0</td>\n",
              "      <td>0</td>\n",
              "      <td>0</td>\n",
              "      <td>0</td>\n",
              "      <td>0</td>\n",
              "      <td>0</td>\n",
              "      <td>0</td>\n",
              "      <td>0</td>\n",
              "      <td>0</td>\n",
              "      <td>1</td>\n",
              "      <td>0</td>\n",
              "      <td>0</td>\n",
              "      <td>0</td>\n",
              "      <td>0</td>\n",
              "      <td>0</td>\n",
              "      <td>0</td>\n",
              "      <td>0</td>\n",
              "      <td>1</td>\n",
              "    </tr>\n",
              "    <tr>\n",
              "      <th>2</th>\n",
              "      <td>83000</td>\n",
              "      <td>49</td>\n",
              "      <td>2</td>\n",
              "      <td>Sydney</td>\n",
              "      <td>0</td>\n",
              "      <td>0</td>\n",
              "      <td>0</td>\n",
              "      <td>0</td>\n",
              "      <td>0</td>\n",
              "      <td>0</td>\n",
              "      <td>0</td>\n",
              "      <td>0</td>\n",
              "      <td>1</td>\n",
              "      <td>0</td>\n",
              "      <td>0</td>\n",
              "      <td>1</td>\n",
              "      <td>0</td>\n",
              "      <td>0</td>\n",
              "      <td>0</td>\n",
              "      <td>1</td>\n",
              "      <td>0</td>\n",
              "      <td>0</td>\n",
              "      <td>0</td>\n",
              "      <td>0</td>\n",
              "    </tr>\n",
              "    <tr>\n",
              "      <th>3</th>\n",
              "      <td>161000</td>\n",
              "      <td>41</td>\n",
              "      <td>0</td>\n",
              "      <td>New York</td>\n",
              "      <td>0</td>\n",
              "      <td>0</td>\n",
              "      <td>1</td>\n",
              "      <td>0</td>\n",
              "      <td>0</td>\n",
              "      <td>0</td>\n",
              "      <td>0</td>\n",
              "      <td>0</td>\n",
              "      <td>0</td>\n",
              "      <td>0</td>\n",
              "      <td>0</td>\n",
              "      <td>0</td>\n",
              "      <td>0</td>\n",
              "      <td>0</td>\n",
              "      <td>1</td>\n",
              "      <td>1</td>\n",
              "      <td>0</td>\n",
              "      <td>0</td>\n",
              "      <td>0</td>\n",
              "      <td>0</td>\n",
              "    </tr>\n",
              "    <tr>\n",
              "      <th>4</th>\n",
              "      <td>146000</td>\n",
              "      <td>58</td>\n",
              "      <td>1</td>\n",
              "      <td>Sydney</td>\n",
              "      <td>0</td>\n",
              "      <td>0</td>\n",
              "      <td>1</td>\n",
              "      <td>0</td>\n",
              "      <td>0</td>\n",
              "      <td>0</td>\n",
              "      <td>0</td>\n",
              "      <td>0</td>\n",
              "      <td>0</td>\n",
              "      <td>0</td>\n",
              "      <td>0</td>\n",
              "      <td>1</td>\n",
              "      <td>0</td>\n",
              "      <td>0</td>\n",
              "      <td>0</td>\n",
              "      <td>0</td>\n",
              "      <td>0</td>\n",
              "      <td>0</td>\n",
              "      <td>0</td>\n",
              "      <td>1</td>\n",
              "    </tr>\n",
              "    <tr>\n",
              "      <th>...</th>\n",
              "      <td>...</td>\n",
              "      <td>...</td>\n",
              "      <td>...</td>\n",
              "      <td>...</td>\n",
              "      <td>...</td>\n",
              "      <td>...</td>\n",
              "      <td>...</td>\n",
              "      <td>...</td>\n",
              "      <td>...</td>\n",
              "      <td>...</td>\n",
              "      <td>...</td>\n",
              "      <td>...</td>\n",
              "      <td>...</td>\n",
              "      <td>...</td>\n",
              "      <td>...</td>\n",
              "      <td>...</td>\n",
              "      <td>...</td>\n",
              "      <td>...</td>\n",
              "      <td>...</td>\n",
              "      <td>...</td>\n",
              "      <td>...</td>\n",
              "      <td>...</td>\n",
              "      <td>...</td>\n",
              "      <td>...</td>\n",
              "    </tr>\n",
              "    <tr>\n",
              "      <th>995</th>\n",
              "      <td>81000</td>\n",
              "      <td>55</td>\n",
              "      <td>2</td>\n",
              "      <td>Paris</td>\n",
              "      <td>0</td>\n",
              "      <td>0</td>\n",
              "      <td>1</td>\n",
              "      <td>0</td>\n",
              "      <td>0</td>\n",
              "      <td>0</td>\n",
              "      <td>0</td>\n",
              "      <td>0</td>\n",
              "      <td>0</td>\n",
              "      <td>0</td>\n",
              "      <td>0</td>\n",
              "      <td>0</td>\n",
              "      <td>0</td>\n",
              "      <td>1</td>\n",
              "      <td>0</td>\n",
              "      <td>0</td>\n",
              "      <td>0</td>\n",
              "      <td>1</td>\n",
              "      <td>0</td>\n",
              "      <td>0</td>\n",
              "    </tr>\n",
              "    <tr>\n",
              "      <th>996</th>\n",
              "      <td>96000</td>\n",
              "      <td>32</td>\n",
              "      <td>1</td>\n",
              "      <td>Paris</td>\n",
              "      <td>0</td>\n",
              "      <td>0</td>\n",
              "      <td>1</td>\n",
              "      <td>0</td>\n",
              "      <td>0</td>\n",
              "      <td>0</td>\n",
              "      <td>0</td>\n",
              "      <td>0</td>\n",
              "      <td>0</td>\n",
              "      <td>0</td>\n",
              "      <td>0</td>\n",
              "      <td>1</td>\n",
              "      <td>0</td>\n",
              "      <td>0</td>\n",
              "      <td>0</td>\n",
              "      <td>0</td>\n",
              "      <td>0</td>\n",
              "      <td>0</td>\n",
              "      <td>1</td>\n",
              "      <td>0</td>\n",
              "    </tr>\n",
              "    <tr>\n",
              "      <th>997</th>\n",
              "      <td>56000</td>\n",
              "      <td>68</td>\n",
              "      <td>2</td>\n",
              "      <td>Paris</td>\n",
              "      <td>0</td>\n",
              "      <td>0</td>\n",
              "      <td>1</td>\n",
              "      <td>0</td>\n",
              "      <td>0</td>\n",
              "      <td>0</td>\n",
              "      <td>0</td>\n",
              "      <td>0</td>\n",
              "      <td>0</td>\n",
              "      <td>0</td>\n",
              "      <td>0</td>\n",
              "      <td>1</td>\n",
              "      <td>0</td>\n",
              "      <td>0</td>\n",
              "      <td>0</td>\n",
              "      <td>0</td>\n",
              "      <td>0</td>\n",
              "      <td>0</td>\n",
              "      <td>0</td>\n",
              "      <td>1</td>\n",
              "    </tr>\n",
              "    <tr>\n",
              "      <th>998</th>\n",
              "      <td>162000</td>\n",
              "      <td>69</td>\n",
              "      <td>0</td>\n",
              "      <td>Sydney</td>\n",
              "      <td>0</td>\n",
              "      <td>0</td>\n",
              "      <td>1</td>\n",
              "      <td>0</td>\n",
              "      <td>0</td>\n",
              "      <td>0</td>\n",
              "      <td>0</td>\n",
              "      <td>0</td>\n",
              "      <td>0</td>\n",
              "      <td>0</td>\n",
              "      <td>0</td>\n",
              "      <td>1</td>\n",
              "      <td>0</td>\n",
              "      <td>0</td>\n",
              "      <td>0</td>\n",
              "      <td>0</td>\n",
              "      <td>0</td>\n",
              "      <td>0</td>\n",
              "      <td>0</td>\n",
              "      <td>1</td>\n",
              "    </tr>\n",
              "    <tr>\n",
              "      <th>999</th>\n",
              "      <td>171000</td>\n",
              "      <td>35</td>\n",
              "      <td>1</td>\n",
              "      <td>New York</td>\n",
              "      <td>0</td>\n",
              "      <td>0</td>\n",
              "      <td>1</td>\n",
              "      <td>0</td>\n",
              "      <td>0</td>\n",
              "      <td>0</td>\n",
              "      <td>0</td>\n",
              "      <td>0</td>\n",
              "      <td>0</td>\n",
              "      <td>0</td>\n",
              "      <td>0</td>\n",
              "      <td>1</td>\n",
              "      <td>0</td>\n",
              "      <td>0</td>\n",
              "      <td>0</td>\n",
              "      <td>1</td>\n",
              "      <td>0</td>\n",
              "      <td>0</td>\n",
              "      <td>0</td>\n",
              "      <td>0</td>\n",
              "    </tr>\n",
              "  </tbody>\n",
              "</table>\n",
              "<p>1000 rows × 24 columns</p>\n",
              "</div>"
            ],
            "text/plain": [
              "     salary  age  ...  transport_preference_Поезд transport_preference_Самолет\n",
              "0    196000   25  ...                           0                            0\n",
              "1    152000   60  ...                           0                            1\n",
              "2     83000   49  ...                           0                            0\n",
              "3    161000   41  ...                           0                            0\n",
              "4    146000   58  ...                           0                            1\n",
              "..      ...  ...  ...                         ...                          ...\n",
              "995   81000   55  ...                           0                            0\n",
              "996   96000   32  ...                           1                            0\n",
              "997   56000   68  ...                           0                            1\n",
              "998  162000   69  ...                           0                            1\n",
              "999  171000   35  ...                           0                            0\n",
              "\n",
              "[1000 rows x 24 columns]"
            ]
          },
          "metadata": {
            "tags": []
          },
          "execution_count": 48
        }
      ]
    },
    {
      "cell_type": "code",
      "metadata": {
        "id": "aRpfOFBk-2ID"
      },
      "source": [
        "X = df.drop(\"target\", axis=1)\n",
        "y = df[\"target\"]"
      ],
      "execution_count": 49,
      "outputs": []
    },
    {
      "cell_type": "code",
      "metadata": {
        "id": "RziP7R9k-6iR"
      },
      "source": [
        "from sklearn.linear_model import LogisticRegression"
      ],
      "execution_count": 50,
      "outputs": []
    },
    {
      "cell_type": "code",
      "metadata": {
        "colab": {
          "base_uri": "https://localhost:8080/"
        },
        "id": "NnruEmJr_AZ_",
        "outputId": "79c66491-7f8a-4255-b8ea-fb60532e9886"
      },
      "source": [
        "model = LogisticRegression() # настройки\n",
        "model.fit(X, y)              # обучение модели"
      ],
      "execution_count": 51,
      "outputs": [
        {
          "output_type": "execute_result",
          "data": {
            "text/plain": [
              "LogisticRegression(C=1.0, class_weight=None, dual=False, fit_intercept=True,\n",
              "                   intercept_scaling=1, l1_ratio=None, max_iter=100,\n",
              "                   multi_class='auto', n_jobs=None, penalty='l2',\n",
              "                   random_state=None, solver='lbfgs', tol=0.0001, verbose=0,\n",
              "                   warm_start=False)"
            ]
          },
          "metadata": {
            "tags": []
          },
          "execution_count": 51
        }
      ]
    },
    {
      "cell_type": "markdown",
      "metadata": {
        "id": "2-vp6UqG_Iyn"
      },
      "source": [
        "# Оцениваем качество модели, насколько хорошо она обучилась?"
      ]
    },
    {
      "cell_type": "code",
      "metadata": {
        "colab": {
          "base_uri": "https://localhost:8080/"
        },
        "id": "dOj3_GnG_BKe",
        "outputId": "67c3b3ae-1475-4bad-a109-7b4ff2caccc4"
      },
      "source": [
        "X.iloc[35]           # на примере данных объекта с id 35 будем строить прогноз по таргету (место назначения) для объекта с id 100"
      ],
      "execution_count": 53,
      "outputs": [
        {
          "output_type": "execute_result",
          "data": {
            "text/plain": [
              "salary                                      188000\n",
              "age                                             65\n",
              "family_members                                   1\n",
              "city_Екатеринбург                                0\n",
              "city_Киев                                        0\n",
              "city_Краснодар                                   0\n",
              "city_Минск                                       0\n",
              "city_Москва                                      0\n",
              "city_Новосибирск                                 1\n",
              "city_Омск                                        0\n",
              "city_Петербург                                   0\n",
              "city_Томск                                       0\n",
              "city_Хабаровск                                   0\n",
              "city_Ярославль                                   0\n",
              "vacation_preference_Архитектура                  1\n",
              "vacation_preference_Ночные клубы                 0\n",
              "vacation_preference_Пляжный отдых                0\n",
              "vacation_preference_Шоппинг                      0\n",
              "transport_preference_Автомобиль                  0\n",
              "transport_preference_Космический корабль         0\n",
              "transport_preference_Морской транспорт           1\n",
              "transport_preference_Поезд                       0\n",
              "transport_preference_Самолет                     0\n",
              "Name: 35, dtype: int64"
            ]
          },
          "metadata": {
            "tags": []
          },
          "execution_count": 53
        }
      ]
    },
    {
      "cell_type": "code",
      "metadata": {
        "colab": {
          "base_uri": "https://localhost:8080/"
        },
        "id": "btza2oWO_b7y",
        "outputId": "b7326cb3-177b-4d56-e33e-b1ec439f8437"
      },
      "source": [
        "model.predict([X.iloc[100]])   # запускаем прогноз для объекта с id 100 и видим прогнозе Париж..."
      ],
      "execution_count": 55,
      "outputs": [
        {
          "output_type": "execute_result",
          "data": {
            "text/plain": [
              "array(['Paris'], dtype=object)"
            ]
          },
          "metadata": {
            "tags": []
          },
          "execution_count": 55
        }
      ]
    },
    {
      "cell_type": "code",
      "metadata": {
        "colab": {
          "base_uri": "https://localhost:8080/",
          "height": 35
        },
        "id": "ds9DXeOHAFtf",
        "outputId": "ce973169-8376-4263-b21b-7644440555c1"
      },
      "source": [
        "y[100]                         # ... тогда как реально объект посетил Сидней. Модель не сработала"
      ],
      "execution_count": 56,
      "outputs": [
        {
          "output_type": "execute_result",
          "data": {
            "application/vnd.google.colaboratory.intrinsic+json": {
              "type": "string"
            },
            "text/plain": [
              "'Sydney'"
            ]
          },
          "metadata": {
            "tags": []
          },
          "execution_count": 56
        }
      ]
    },
    {
      "cell_type": "code",
      "metadata": {
        "colab": {
          "base_uri": "https://localhost:8080/"
        },
        "id": "pOI4LmdfAYrz",
        "outputId": "0513fe21-96a8-4673-84e8-8e7cb260b74f"
      },
      "source": [
        "{ col:[0] for col in X.columns }"
      ],
      "execution_count": 34,
      "outputs": [
        {
          "output_type": "execute_result",
          "data": {
            "text/plain": [
              "{'age': [0],\n",
              " 'city_Екатеринбург': [0],\n",
              " 'city_Киев': [0],\n",
              " 'city_Краснодар': [0],\n",
              " 'city_Минск': [0],\n",
              " 'city_Москва': [0],\n",
              " 'city_Новосибирск': [0],\n",
              " 'city_Омск': [0],\n",
              " 'city_Петербург': [0],\n",
              " 'city_Томск': [0],\n",
              " 'city_Хабаровск': [0],\n",
              " 'city_Ярославль': [0],\n",
              " 'family_members': [0],\n",
              " 'salary': [0],\n",
              " 'transport_preference_Автомобиль': [0],\n",
              " 'transport_preference_Космический корабль': [0],\n",
              " 'transport_preference_Морской транспорт': [0],\n",
              " 'transport_preference_Поезд': [0],\n",
              " 'transport_preference_Самолет': [0],\n",
              " 'vacation_preference_Архитектура': [0],\n",
              " 'vacation_preference_Ночные клубы': [0],\n",
              " 'vacation_preference_Пляжный отдых': [0],\n",
              " 'vacation_preference_Шоппинг': [0]}"
            ]
          },
          "metadata": {
            "tags": []
          },
          "execution_count": 34
        }
      ]
    },
    {
      "cell_type": "code",
      "metadata": {
        "id": "deHmPbIUAfHy"
      },
      "source": [
        "example = {'age': [31],\n",
        " 'city_Екатеринбург': [0],\n",
        " 'city_Киев': [0],\n",
        " 'city_Краснодар': [1],\n",
        " 'city_Минск': [0],\n",
        " 'city_Москва': [0],\n",
        " 'city_Новосибирск': [0],\n",
        " 'city_Омск': [0],\n",
        " 'city_Петербург': [0],\n",
        " 'city_Томск': [0],\n",
        " 'city_Хабаровск': [0],\n",
        " 'city_Ярославль': [0],\n",
        " 'family_members': [1],\n",
        " 'salary': [120000],\n",
        " 'transport_preference_Автомобиль': [0],\n",
        " 'transport_preference_Космический корабль': [0],\n",
        " 'transport_preference_Морской транспорт': [0],\n",
        " 'transport_preference_Поезд': [0],\n",
        " 'transport_preference_Самолет': [1],\n",
        " 'vacation_preference_Архитектура': [1],\n",
        " 'vacation_preference_Ночные клубы': [0],\n",
        " 'vacation_preference_Пляжный отдых': [0],\n",
        " 'vacation_preference_Шоппинг': [0]}\n",
        "\n",
        "example_df = pandas.DataFrame(example)"
      ],
      "execution_count": 35,
      "outputs": []
    },
    {
      "cell_type": "code",
      "metadata": {
        "colab": {
          "base_uri": "https://localhost:8080/"
        },
        "id": "3tAbqrPRAjx7",
        "outputId": "5c300079-f635-4a8f-c25e-950c6c3c5e3d"
      },
      "source": [
        "model.predict(example_df)"
      ],
      "execution_count": 36,
      "outputs": [
        {
          "output_type": "execute_result",
          "data": {
            "text/plain": [
              "array(['New York'], dtype=object)"
            ]
          },
          "metadata": {
            "tags": []
          },
          "execution_count": 36
        }
      ]
    }
  ]
}