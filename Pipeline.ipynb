{
  "nbformat": 4,
  "nbformat_minor": 0,
  "metadata": {
    "colab": {
      "name": "Pipeline.ipynb",
      "provenance": [],
      "authorship_tag": "ABX9TyNEhX9Ur6Ub3M/pRd9D7JA6"
    },
    "kernelspec": {
      "name": "python3",
      "display_name": "Python 3"
    },
    "language_info": {
      "name": "python"
    }
  },
  "cells": [
    {
      "cell_type": "code",
      "metadata": {
        "id": "M4dwPHCPhgzM"
      },
      "source": [
        "import numpy as np\n",
        "import matplotlib.pyplot as plt\n",
        " "
      ],
      "execution_count": 2,
      "outputs": []
    },
    {
      "cell_type": "code",
      "metadata": {
        "id": "YZgj0QUp9KD6"
      },
      "source": [
        "X_train = 10*np.random.normal(0,1,70)\n",
        "y_train = 10*(- X_train**2) + np.random.normal(-100,100,70)"
      ],
      "execution_count": 8,
      "outputs": []
    },
    {
      "cell_type": "code",
      "metadata": {
        "colab": {
          "base_uri": "https://localhost:8080/",
          "height": 284
        },
        "id": "woM5jbFW9pWv",
        "outputId": "4b06150f-9653-4868-bb85-3c60fdf112ca"
      },
      "source": [
        "plt.figure(figsize=(6,4))\n",
        "plt.scatter(X_train, y_train, s=15)\n",
        "plt.xlabel('feature',fontsize=16)\n",
        "plt.ylabel('responce',fontsize=16)\n",
        "plt.show() "
      ],
      "execution_count": 9,
      "outputs": [
        {
          "output_type": "display_data",
          "data": {
            "image/png": "[encoded data removed]",
            "text/plain": [
              "<Figure size 432x288 with 1 Axes>"
            ]
          },
          "metadata": {
            "tags": [],
            "needs_background": "light"
          }
        }
      ]
    },
    {
      "cell_type": "markdown",
      "metadata": {
        "id": "niQMqsf9_XKH"
      },
      "source": [
        ""
      ]
    },
    {
      "cell_type": "code",
      "metadata": {
        "id": "pl7LmsHD_Xs6"
      },
      "source": [
        "from sklearn.linear_model import LinearRegression"
      ],
      "execution_count": 12,
      "outputs": []
    },
    {
      "cell_type": "code",
      "metadata": {
        "colab": {
          "base_uri": "https://localhost:8080/"
        },
        "id": "UTxVQ3zK_mbh",
        "outputId": "d90ebca5-0304-4389-95db-171fc9cc983a"
      },
      "source": [
        "#Training model\n",
        "lm = LinearRegression()\n",
        "lm.fit(X_train.reshape(-1,1), y_train.reshape(-1,1))\n"
      ],
      "execution_count": 14,
      "outputs": [
        {
          "output_type": "execute_result",
          "data": {
            "text/plain": [
              "LinearRegression(copy_X=True, fit_intercept=True, n_jobs=None, normalize=False)"
            ]
          },
          "metadata": {
            "tags": []
          },
          "execution_count": 14
        }
      ]
    },
    {
      "cell_type": "code",
      "metadata": {
        "id": "oT2-3iyNAGKF"
      },
      "source": [
        "X_test = np.linspace(-30,30,100)"
      ],
      "execution_count": 15,
      "outputs": []
    },
    {
      "cell_type": "code",
      "metadata": {
        "id": "I4-vAOpiAWJ6"
      },
      "source": [
        "#Prediction\n",
        "y_pred = lm.predict(X_test.reshape(-1,1))"
      ],
      "execution_count": 16,
      "outputs": []
    },
    {
      "cell_type": "code",
      "metadata": {
        "colab": {
          "base_uri": "https://localhost:8080/",
          "height": 284
        },
        "id": "OUu69AXmAky9",
        "outputId": "7e7609f9-74ab-4c58-f19f-e1ad4030b3bb"
      },
      "source": [
        "plt.figure(figsize=(6,4))\n",
        "plt.scatter(X_train, y_train, s=15)\n",
        "plt.plot(X_test, y_pred, color='r')\n",
        "plt.xlabel('feature',fontsize=16)\n",
        "plt.ylabel('responce',fontsize=16)\n",
        "plt.show() "
      ],
      "execution_count": 18,
      "outputs": [
        {
          "output_type": "display_data",
          "data": {
            "image/png": "[encoded data removed]",
            "text/plain": [
              "<Figure size 432x288 with 1 Axes>"
            ]
          },
          "metadata": {
            "tags": [],
            "needs_background": "light"
          }
        }
      ]
    },
    {
      "cell_type": "code",
      "metadata": {
        "id": "F4BUxsMsCH8l"
      },
      "source": [
        "# наша модель плохо описывает данные. Надо поискать другую, например, полиномиальную регрессию\n",
        "from sklearn.preprocessing import PolynomialFeatures\n",
        "\n",
        "#импортируем пайплайн\n",
        "from sklearn.pipeline import Pipeline\n",
        "\n",
        "#создаём пайплайн и подгоняем его под данные\n",
        "pipe = Pipeline ([('transformer', PolynomialFeatures(degree=2)),   ### List of (name, transform) tuples\n",
        "                  ( 'estimator', LinearRegression())               ### <--  Last object is as Estimator\n",
        "])"
      ],
      "execution_count": 42,
      "outputs": []
    },
    {
      "cell_type": "code",
      "metadata": {
        "colab": {
          "base_uri": "https://localhost:8080/"
        },
        "id": "XCDdoRmKDm3j",
        "outputId": "2df0d84d-b5c2-4901-b6ee-b9ff924551db"
      },
      "source": [
        "pipe.fit(X_train.reshape(-1,1), y_train.reshape(-1,1))"
      ],
      "execution_count": 43,
      "outputs": [
        {
          "output_type": "execute_result",
          "data": {
            "text/plain": [
              "Pipeline(memory=None,\n",
              "         steps=[('transformer',\n",
              "                 PolynomialFeatures(degree=2, include_bias=True,\n",
              "                                    interaction_only=False, order='C')),\n",
              "                ('estimator',\n",
              "                 LinearRegression(copy_X=True, fit_intercept=True, n_jobs=None,\n",
              "                                  normalize=False))],\n",
              "         verbose=False)"
            ]
          },
          "metadata": {
            "tags": []
          },
          "execution_count": 43
        }
      ]
    },
    {
      "cell_type": "code",
      "metadata": {
        "id": "W0VuEP1dDykk"
      },
      "source": [
        "#predictions\n",
        "poly_pred=pipe.predict(X_test.reshape(-1,1))"
      ],
      "execution_count": 40,
      "outputs": []
    },
    {
      "cell_type": "code",
      "metadata": {
        "colab": {
          "base_uri": "https://localhost:8080/",
          "height": 284
        },
        "id": "Xlf4bwEtEIS5",
        "outputId": "5568ef1a-c0d9-421a-b00a-576fb2e1216e"
      },
      "source": [
        "plt.figure(figsize=(6,4))\n",
        "plt.scatter(X_train, y_train, s=15)\n",
        "plt.plot(X_test, poly_pred, color='g')\n",
        "plt.xlabel('feature',fontsize=16)\n",
        "plt.ylabel('responce',fontsize=16)\n",
        "plt.show() "
      ],
      "execution_count": 41,
      "outputs": [
        {
          "output_type": "display_data",
          "data": {
            "image/png": "[encoded data removed]",
            "text/plain": [
              "<Figure size 432x288 with 1 Axes>"
            ]
          },
          "metadata": {
            "tags": [],
            "needs_background": "light"
          }
        }
      ]
    }
  ]
}