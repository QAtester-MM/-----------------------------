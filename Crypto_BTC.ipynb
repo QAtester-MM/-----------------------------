{
  "nbformat": 4,
  "nbformat_minor": 0,
  "metadata": {
    "colab": {
      "name": "Crypto_BTC.ipynb",
      "provenance": [],
      "collapsed_sections": [],
      "authorship_tag": "ABX9TyMsZZiuaeZYFjtB+yAALxQn",
      "include_colab_link": true
    },
    "kernelspec": {
      "name": "python3",
      "display_name": "Python 3"
    },
    "language_info": {
      "name": "python"
    }
  },
  "cells": [
    {
      "cell_type": "markdown",
      "metadata": {
        "id": "view-in-github",
        "colab_type": "text"
      },
      "source": [
        "<a href=\"https://colab.research.google.com/github/QAtester-MM/Data-Science_Machine-Learning/blob/master/Crypto_BTC.ipynb\" target=\"_parent\"><img src=\"https://colab.research.google.com/assets/colab-badge.svg\" alt=\"Open In Colab\"/></a>"
      ]
    },
    {
      "cell_type": "code",
      "metadata": {
        "id": "vb55f_By4Xmi"
      },
      "source": [
        "import zipfile\n",
        "with zipfile.ZipFile(\"/content/BitFinexData.zip\", \"r\") as zipf:\n",
        "  zipf.extractall(\"/content/bitfinex/\")"
      ],
      "execution_count": null,
      "outputs": []
    },
    {
      "cell_type": "code",
      "metadata": {
        "colab": {
          "base_uri": "https://localhost:8080/",
          "height": 195
        },
        "id": "QaPxWAPO4yUO",
        "outputId": "519f2c93-7d04-4ca9-9625-4d2fac66ba3b"
      },
      "source": [
        "import pandas as pd\n",
        "bitcoin = pd.read_csv(\"/content/bitfinex/Bitfinex_BTCUSD_d.csv\", skiprows=1)[1:-750]       # берем данные из файла Bitfinex_BTCUSD_d.csv за исключением первой строки. Также исключается текущий день, т.к. он ещё не закончен, и данные по нему не полные.\n",
        "bitcoin[\"date\"] = pd.to_datetime(bitcoin[\"date\"])                                          # из столбца \"date\" удалили значения времени, осталась только дата\n",
        "bitcoin = bitcoin[::-1]                                                                    # отображаем таблицу в обратном порядке (снизу вверх)\n",
        "bitcoin = bitcoin.reset_index(drop=True)\n",
        "bitcoin.head()                                                                             # смотрим, что получилось в результате преобразований:"
      ],
      "execution_count": null,
      "outputs": [
        {
          "output_type": "execute_result",
          "data": {
            "text/html": [
              "<div>\n",
              "<style scoped>\n",
              "    .dataframe tbody tr th:only-of-type {\n",
              "        vertical-align: middle;\n",
              "    }\n",
              "\n",
              "    .dataframe tbody tr th {\n",
              "        vertical-align: top;\n",
              "    }\n",
              "\n",
              "    .dataframe thead th {\n",
              "        text-align: right;\n",
              "    }\n",
              "</style>\n",
              "<table border=\"1\" class=\"dataframe\">\n",
              "  <thead>\n",
              "    <tr style=\"text-align: right;\">\n",
              "      <th></th>\n",
              "      <th>unix</th>\n",
              "      <th>date</th>\n",
              "      <th>symbol</th>\n",
              "      <th>open</th>\n",
              "      <th>high</th>\n",
              "      <th>low</th>\n",
              "      <th>close</th>\n",
              "      <th>Volume USD</th>\n",
              "      <th>Volume BTC</th>\n",
              "    </tr>\n",
              "  </thead>\n",
              "  <tbody>\n",
              "    <tr>\n",
              "      <th>0</th>\n",
              "      <td>1488240000</td>\n",
              "      <td>2017-02-28</td>\n",
              "      <td>BTC/USD</td>\n",
              "      <td>1195.5</td>\n",
              "      <td>1216.0</td>\n",
              "      <td>1176.6</td>\n",
              "      <td>1189.1</td>\n",
              "      <td>16251499.88</td>\n",
              "      <td>13608.74</td>\n",
              "    </tr>\n",
              "    <tr>\n",
              "      <th>1</th>\n",
              "      <td>1488326400</td>\n",
              "      <td>2017-03-01</td>\n",
              "      <td>BTC/USD</td>\n",
              "      <td>1189.1</td>\n",
              "      <td>1236.4</td>\n",
              "      <td>1186.0</td>\n",
              "      <td>1233.2</td>\n",
              "      <td>20165589.45</td>\n",
              "      <td>16589.62</td>\n",
              "    </tr>\n",
              "    <tr>\n",
              "      <th>2</th>\n",
              "      <td>1488412800</td>\n",
              "      <td>2017-03-02</td>\n",
              "      <td>BTC/USD</td>\n",
              "      <td>1233.2</td>\n",
              "      <td>1285.9</td>\n",
              "      <td>1212.0</td>\n",
              "      <td>1258.0</td>\n",
              "      <td>26536494.73</td>\n",
              "      <td>21274.82</td>\n",
              "    </tr>\n",
              "    <tr>\n",
              "      <th>3</th>\n",
              "      <td>1488499200</td>\n",
              "      <td>2017-03-03</td>\n",
              "      <td>BTC/USD</td>\n",
              "      <td>1258.0</td>\n",
              "      <td>1294.9</td>\n",
              "      <td>1256.2</td>\n",
              "      <td>1289.2</td>\n",
              "      <td>20748814.46</td>\n",
              "      <td>16223.73</td>\n",
              "    </tr>\n",
              "    <tr>\n",
              "      <th>4</th>\n",
              "      <td>1488585600</td>\n",
              "      <td>2017-03-04</td>\n",
              "      <td>BTC/USD</td>\n",
              "      <td>1289.2</td>\n",
              "      <td>1291.9</td>\n",
              "      <td>1240.0</td>\n",
              "      <td>1267.8</td>\n",
              "      <td>14131545.81</td>\n",
              "      <td>11156.61</td>\n",
              "    </tr>\n",
              "  </tbody>\n",
              "</table>\n",
              "</div>"
            ],
            "text/plain": [
              "         unix       date   symbol  ...   close   Volume USD  Volume BTC\n",
              "0  1488240000 2017-02-28  BTC/USD  ...  1189.1  16251499.88    13608.74\n",
              "1  1488326400 2017-03-01  BTC/USD  ...  1233.2  20165589.45    16589.62\n",
              "2  1488412800 2017-03-02  BTC/USD  ...  1258.0  26536494.73    21274.82\n",
              "3  1488499200 2017-03-03  BTC/USD  ...  1289.2  20748814.46    16223.73\n",
              "4  1488585600 2017-03-04  BTC/USD  ...  1267.8  14131545.81    11156.61\n",
              "\n",
              "[5 rows x 9 columns]"
            ]
          },
          "metadata": {
            "tags": []
          },
          "execution_count": 115
        }
      ]
    },
    {
      "cell_type": "code",
      "metadata": {
        "colab": {
          "base_uri": "https://localhost:8080/",
          "height": 195
        },
        "id": "jcu_NY5U-RsT",
        "outputId": "92fecdfe-9ef1-47a2-843a-15f2e49b4100"
      },
      "source": [
        "bitcoin.tail()"
      ],
      "execution_count": null,
      "outputs": [
        {
          "output_type": "execute_result",
          "data": {
            "text/html": [
              "<div>\n",
              "<style scoped>\n",
              "    .dataframe tbody tr th:only-of-type {\n",
              "        vertical-align: middle;\n",
              "    }\n",
              "\n",
              "    .dataframe tbody tr th {\n",
              "        vertical-align: top;\n",
              "    }\n",
              "\n",
              "    .dataframe thead th {\n",
              "        text-align: right;\n",
              "    }\n",
              "</style>\n",
              "<table border=\"1\" class=\"dataframe\">\n",
              "  <thead>\n",
              "    <tr style=\"text-align: right;\">\n",
              "      <th></th>\n",
              "      <th>unix</th>\n",
              "      <th>date</th>\n",
              "      <th>symbol</th>\n",
              "      <th>open</th>\n",
              "      <th>high</th>\n",
              "      <th>low</th>\n",
              "      <th>close</th>\n",
              "      <th>Volume USD</th>\n",
              "      <th>Volume BTC</th>\n",
              "    </tr>\n",
              "  </thead>\n",
              "  <tbody>\n",
              "    <tr>\n",
              "      <th>1500</th>\n",
              "      <td>1617840000000</td>\n",
              "      <td>2021-04-08</td>\n",
              "      <td>BTC/USD</td>\n",
              "      <td>55962.000000</td>\n",
              "      <td>58155.0</td>\n",
              "      <td>55714.0</td>\n",
              "      <td>58110.0</td>\n",
              "      <td>2.604657e+08</td>\n",
              "      <td>4482.287596</td>\n",
              "    </tr>\n",
              "    <tr>\n",
              "      <th>1501</th>\n",
              "      <td>1617926400000</td>\n",
              "      <td>2021-04-09</td>\n",
              "      <td>BTC/USD</td>\n",
              "      <td>58110.000000</td>\n",
              "      <td>58880.0</td>\n",
              "      <td>57713.0</td>\n",
              "      <td>58134.0</td>\n",
              "      <td>2.179731e+08</td>\n",
              "      <td>3749.493697</td>\n",
              "    </tr>\n",
              "    <tr>\n",
              "      <th>1502</th>\n",
              "      <td>1618012800000</td>\n",
              "      <td>2021-04-10</td>\n",
              "      <td>BTC/USD</td>\n",
              "      <td>58134.090643</td>\n",
              "      <td>61243.0</td>\n",
              "      <td>57900.0</td>\n",
              "      <td>59812.0</td>\n",
              "      <td>5.858312e+08</td>\n",
              "      <td>9794.542479</td>\n",
              "    </tr>\n",
              "    <tr>\n",
              "      <th>1503</th>\n",
              "      <td>1618099200000</td>\n",
              "      <td>2021-04-11</td>\n",
              "      <td>BTC/USD</td>\n",
              "      <td>59817.073785</td>\n",
              "      <td>60722.0</td>\n",
              "      <td>59308.0</td>\n",
              "      <td>60032.0</td>\n",
              "      <td>2.789436e+08</td>\n",
              "      <td>4646.581998</td>\n",
              "    </tr>\n",
              "    <tr>\n",
              "      <th>1504</th>\n",
              "      <td>1618185600000</td>\n",
              "      <td>2021-04-12</td>\n",
              "      <td>BTC/USD</td>\n",
              "      <td>60033.000000</td>\n",
              "      <td>61338.0</td>\n",
              "      <td>59492.0</td>\n",
              "      <td>59874.0</td>\n",
              "      <td>3.291828e+08</td>\n",
              "      <td>5497.925195</td>\n",
              "    </tr>\n",
              "  </tbody>\n",
              "</table>\n",
              "</div>"
            ],
            "text/plain": [
              "               unix       date   symbol  ...    close    Volume USD   Volume BTC\n",
              "1500  1617840000000 2021-04-08  BTC/USD  ...  58110.0  2.604657e+08  4482.287596\n",
              "1501  1617926400000 2021-04-09  BTC/USD  ...  58134.0  2.179731e+08  3749.493697\n",
              "1502  1618012800000 2021-04-10  BTC/USD  ...  59812.0  5.858312e+08  9794.542479\n",
              "1503  1618099200000 2021-04-11  BTC/USD  ...  60032.0  2.789436e+08  4646.581998\n",
              "1504  1618185600000 2021-04-12  BTC/USD  ...  59874.0  3.291828e+08  5497.925195\n",
              "\n",
              "[5 rows x 9 columns]"
            ]
          },
          "metadata": {
            "tags": []
          },
          "execution_count": 116
        }
      ]
    },
    {
      "cell_type": "code",
      "metadata": {
        "colab": {
          "base_uri": "https://localhost:8080/"
        },
        "id": "6UTlM5Ea-agp",
        "outputId": "2876978d-48c9-41f3-c166-342b6bab4bf2"
      },
      "source": [
        "bitcoin.shape                 # смотрим размерность датасета (кол-во строк, кол-во столбцов):"
      ],
      "execution_count": null,
      "outputs": [
        {
          "output_type": "execute_result",
          "data": {
            "text/plain": [
              "(1505, 9)"
            ]
          },
          "metadata": {
            "tags": []
          },
          "execution_count": 117
        }
      ]
    },
    {
      "cell_type": "code",
      "metadata": {
        "colab": {
          "base_uri": "https://localhost:8080/",
          "height": 284
        },
        "id": "hgFRdgyq-xDM",
        "outputId": "81792b14-64ab-4a27-d871-a66a3f8879a1"
      },
      "source": [
        "bitcoin.describe()            # смотрим стат.характеристики датасета."
      ],
      "execution_count": null,
      "outputs": [
        {
          "output_type": "execute_result",
          "data": {
            "text/html": [
              "<div>\n",
              "<style scoped>\n",
              "    .dataframe tbody tr th:only-of-type {\n",
              "        vertical-align: middle;\n",
              "    }\n",
              "\n",
              "    .dataframe tbody tr th {\n",
              "        vertical-align: top;\n",
              "    }\n",
              "\n",
              "    .dataframe thead th {\n",
              "        text-align: right;\n",
              "    }\n",
              "</style>\n",
              "<table border=\"1\" class=\"dataframe\">\n",
              "  <thead>\n",
              "    <tr style=\"text-align: right;\">\n",
              "      <th></th>\n",
              "      <th>unix</th>\n",
              "      <th>open</th>\n",
              "      <th>high</th>\n",
              "      <th>low</th>\n",
              "      <th>close</th>\n",
              "      <th>Volume USD</th>\n",
              "      <th>Volume BTC</th>\n",
              "    </tr>\n",
              "  </thead>\n",
              "  <tbody>\n",
              "    <tr>\n",
              "      <th>count</th>\n",
              "      <td>1.505000e+03</td>\n",
              "      <td>1505.000000</td>\n",
              "      <td>1505.000000</td>\n",
              "      <td>1505.000000</td>\n",
              "      <td>1505.000000</td>\n",
              "      <td>1.505000e+03</td>\n",
              "      <td>1505.000000</td>\n",
              "    </tr>\n",
              "    <tr>\n",
              "      <th>mean</th>\n",
              "      <td>2.873685e+11</td>\n",
              "      <td>10391.204814</td>\n",
              "      <td>10725.169079</td>\n",
              "      <td>10041.485073</td>\n",
              "      <td>10430.163678</td>\n",
              "      <td>1.776724e+08</td>\n",
              "      <td>20334.129265</td>\n",
              "    </tr>\n",
              "    <tr>\n",
              "      <th>std</th>\n",
              "      <td>6.142842e+11</td>\n",
              "      <td>10827.948289</td>\n",
              "      <td>11222.174990</td>\n",
              "      <td>10435.903384</td>\n",
              "      <td>10900.643207</td>\n",
              "      <td>2.229820e+08</td>\n",
              "      <td>20744.553716</td>\n",
              "    </tr>\n",
              "    <tr>\n",
              "      <th>min</th>\n",
              "      <td>1.488240e+09</td>\n",
              "      <td>942.130000</td>\n",
              "      <td>981.000000</td>\n",
              "      <td>888.200000</td>\n",
              "      <td>942.130000</td>\n",
              "      <td>4.390000e+02</td>\n",
              "      <td>3.079000</td>\n",
              "    </tr>\n",
              "    <tr>\n",
              "      <th>25%</th>\n",
              "      <td>1.520726e+09</td>\n",
              "      <td>5234.400000</td>\n",
              "      <td>5376.000000</td>\n",
              "      <td>5055.000000</td>\n",
              "      <td>5238.000000</td>\n",
              "      <td>4.233872e+07</td>\n",
              "      <td>6475.282595</td>\n",
              "    </tr>\n",
              "    <tr>\n",
              "      <th>50%</th>\n",
              "      <td>1.553213e+09</td>\n",
              "      <td>7974.400000</td>\n",
              "      <td>8185.000000</td>\n",
              "      <td>7711.000000</td>\n",
              "      <td>7977.850000</td>\n",
              "      <td>9.154748e+07</td>\n",
              "      <td>13149.603522</td>\n",
              "    </tr>\n",
              "    <tr>\n",
              "      <th>75%</th>\n",
              "      <td>1.585699e+09</td>\n",
              "      <td>10369.000000</td>\n",
              "      <td>10623.000000</td>\n",
              "      <td>10064.000000</td>\n",
              "      <td>10374.000000</td>\n",
              "      <td>2.204737e+08</td>\n",
              "      <td>27117.630000</td>\n",
              "    </tr>\n",
              "    <tr>\n",
              "      <th>max</th>\n",
              "      <td>1.618186e+12</td>\n",
              "      <td>61203.000000</td>\n",
              "      <td>61699.000000</td>\n",
              "      <td>59492.000000</td>\n",
              "      <td>61202.887014</td>\n",
              "      <td>2.223208e+09</td>\n",
              "      <td>189674.010000</td>\n",
              "    </tr>\n",
              "  </tbody>\n",
              "</table>\n",
              "</div>"
            ],
            "text/plain": [
              "               unix          open  ...    Volume USD     Volume BTC\n",
              "count  1.505000e+03   1505.000000  ...  1.505000e+03    1505.000000\n",
              "mean   2.873685e+11  10391.204814  ...  1.776724e+08   20334.129265\n",
              "std    6.142842e+11  10827.948289  ...  2.229820e+08   20744.553716\n",
              "min    1.488240e+09    942.130000  ...  4.390000e+02       3.079000\n",
              "25%    1.520726e+09   5234.400000  ...  4.233872e+07    6475.282595\n",
              "50%    1.553213e+09   7974.400000  ...  9.154748e+07   13149.603522\n",
              "75%    1.585699e+09  10369.000000  ...  2.204737e+08   27117.630000\n",
              "max    1.618186e+12  61203.000000  ...  2.223208e+09  189674.010000\n",
              "\n",
              "[8 rows x 7 columns]"
            ]
          },
          "metadata": {
            "tags": []
          },
          "execution_count": 118
        }
      ]
    },
    {
      "cell_type": "code",
      "metadata": {
        "colab": {
          "base_uri": "https://localhost:8080/"
        },
        "id": "ffkwS1Xd-lCk",
        "outputId": "e6fb3af7-fd71-462f-cc93-0466f978684a"
      },
      "source": [
        "bitcoin.describe"
      ],
      "execution_count": null,
      "outputs": [
        {
          "output_type": "execute_result",
          "data": {
            "text/plain": [
              "<bound method NDFrame.describe of                unix       date   symbol  ...    close    Volume USD    Volume BTC\n",
              "0        1488240000 2017-02-28  BTC/USD  ...   1189.1  1.625150e+07  13608.740000\n",
              "1        1488326400 2017-03-01  BTC/USD  ...   1233.2  2.016559e+07  16589.620000\n",
              "2        1488412800 2017-03-02  BTC/USD  ...   1258.0  2.653649e+07  21274.820000\n",
              "3        1488499200 2017-03-03  BTC/USD  ...   1289.2  2.074881e+07  16223.730000\n",
              "4        1488585600 2017-03-04  BTC/USD  ...   1267.8  1.413155e+07  11156.610000\n",
              "...             ...        ...      ...  ...      ...           ...           ...\n",
              "1500  1617840000000 2021-04-08  BTC/USD  ...  58110.0  2.604657e+08   4482.287596\n",
              "1501  1617926400000 2021-04-09  BTC/USD  ...  58134.0  2.179731e+08   3749.493697\n",
              "1502  1618012800000 2021-04-10  BTC/USD  ...  59812.0  5.858312e+08   9794.542479\n",
              "1503  1618099200000 2021-04-11  BTC/USD  ...  60032.0  2.789436e+08   4646.581998\n",
              "1504  1618185600000 2021-04-12  BTC/USD  ...  59874.0  3.291828e+08   5497.925195\n",
              "\n",
              "[1505 rows x 9 columns]>"
            ]
          },
          "metadata": {
            "tags": []
          },
          "execution_count": 12
        }
      ]
    },
    {
      "cell_type": "markdown",
      "metadata": {
        "id": "UGihLrvq_xAD"
      },
      "source": [
        "# **Визуализация **"
      ]
    },
    {
      "cell_type": "code",
      "metadata": {
        "colab": {
          "base_uri": "https://localhost:8080/",
          "height": 282
        },
        "id": "fCEmmCah_wP0",
        "outputId": "a740536e-871e-4625-ac8c-ddac3e3f3656"
      },
      "source": [
        "bitcoin[\"high\"].plot()                              # график максимумов"
      ],
      "execution_count": null,
      "outputs": [
        {
          "output_type": "execute_result",
          "data": {
            "text/plain": [
              "<matplotlib.axes._subplots.AxesSubplot at 0x7f71f0cfe090>"
            ]
          },
          "metadata": {
            "tags": []
          },
          "execution_count": 119
        },
        {
          "output_type": "display_data",
          "data": {
            "image/png": "[encoded data removed]",
            "text/plain": [
              "<Figure size 432x288 with 1 Axes>"
            ]
          },
          "metadata": {
            "tags": [],
            "needs_background": "light"
          }
        }
      ]
    },
    {
      "cell_type": "code",
      "metadata": {
        "colab": {
          "base_uri": "https://localhost:8080/",
          "height": 293
        },
        "id": "IBYaUQznAvsn",
        "outputId": "39881f88-0cc6-4b82-95ab-dd0b2a5883d4"
      },
      "source": [
        "bitcoin[\"Volume USD\"].plot()                          # график объема торгов в USD"
      ],
      "execution_count": null,
      "outputs": [
        {
          "output_type": "execute_result",
          "data": {
            "text/plain": [
              "<matplotlib.axes._subplots.AxesSubplot at 0x7f71f0cfe590>"
            ]
          },
          "metadata": {
            "tags": []
          },
          "execution_count": 120
        },
        {
          "output_type": "display_data",
          "data": {
            "image/png": "[encoded data removed]",
            "text/plain": [
              "<Figure size 432x288 with 1 Axes>"
            ]
          },
          "metadata": {
            "tags": [],
            "needs_background": "light"
          }
        }
      ]
    },
    {
      "cell_type": "code",
      "metadata": {
        "colab": {
          "base_uri": "https://localhost:8080/",
          "height": 282
        },
        "id": "Q3RBywXEExm6",
        "outputId": "9618f9db-db56-43b8-da58-7914058667e3"
      },
      "source": [
        "(bitcoin[\"open\"] - bitcoin[\"close\"]).plot()           # график разницы между открытием и закрытием"
      ],
      "execution_count": null,
      "outputs": [
        {
          "output_type": "execute_result",
          "data": {
            "text/plain": [
              "<matplotlib.axes._subplots.AxesSubplot at 0x7f71e5d86a90>"
            ]
          },
          "metadata": {
            "tags": []
          },
          "execution_count": 121
        },
        {
          "output_type": "display_data",
          "data": {
            "image/png": "[encoded data removed]",
            "text/plain": [
              "<Figure size 432x288 with 1 Axes>"
            ]
          },
          "metadata": {
            "tags": [],
            "needs_background": "light"
          }
        }
      ]
    },
    {
      "cell_type": "code",
      "metadata": {
        "colab": {
          "base_uri": "https://localhost:8080/",
          "height": 282
        },
        "id": "VTfka8G7E97m",
        "outputId": "9a58d8d9-bf03-452e-84a1-d2aab5343657"
      },
      "source": [
        "(bitcoin[\"high\"] - bitcoin[\"low\"]).plot()               # график разницы между МАКС-МИН"
      ],
      "execution_count": null,
      "outputs": [
        {
          "output_type": "execute_result",
          "data": {
            "text/plain": [
              "<matplotlib.axes._subplots.AxesSubplot at 0x7f71e5e180d0>"
            ]
          },
          "metadata": {
            "tags": []
          },
          "execution_count": 122
        },
        {
          "output_type": "display_data",
          "data": {
            "image/png": "[encoded data removed]",
            "text/plain": [
              "<Figure size 432x288 with 1 Axes>"
            ]
          },
          "metadata": {
            "tags": [],
            "needs_background": "light"
          }
        }
      ]
    },
    {
      "cell_type": "code",
      "metadata": {
        "colab": {
          "base_uri": "https://localhost:8080/",
          "height": 282
        },
        "id": "QjUki_0GFEam",
        "outputId": "c4a75f36-5959-4104-b772-cc47be143f06"
      },
      "source": [
        "(bitcoin[\"Volume USD\"] / bitcoin[\"Volume BTC\"]).plot()"
      ],
      "execution_count": null,
      "outputs": [
        {
          "output_type": "execute_result",
          "data": {
            "text/plain": [
              "<matplotlib.axes._subplots.AxesSubplot at 0x7f71e5ce9890>"
            ]
          },
          "metadata": {
            "tags": []
          },
          "execution_count": 123
        },
        {
          "output_type": "display_data",
          "data": {
            "image/png": "[encoded data removed]",
            "text/plain": [
              "<Figure size 432x288 with 1 Axes>"
            ]
          },
          "metadata": {
            "tags": [],
            "needs_background": "light"
          }
        }
      ]
    },
    {
      "cell_type": "code",
      "metadata": {
        "id": "O25SxWC6FNLF"
      },
      "source": [
        "bitcoin[\"weekday\"] = bitcoin[\"date\"].dt.weekday             # добавили колонку (столбец) \"день недели\"\n",
        "bitcoin[\"year\"] = bitcoin[\"date\"].dt.year                   # добавили колонку (столбец) \"год\"\n",
        "bitcoin[\"month\"] = bitcoin[\"date\"].dt.month                 # добавили колонку (столбец) \"месяц\""
      ],
      "execution_count": null,
      "outputs": []
    },
    {
      "cell_type": "markdown",
      "metadata": {
        "id": "aGFGM0bbFbW2"
      },
      "source": [
        "# Среднее значение закрытия по дням недели"
      ]
    },
    {
      "cell_type": "code",
      "metadata": {
        "colab": {
          "base_uri": "https://localhost:8080/",
          "height": 296
        },
        "id": "yny2eq8PFTxq",
        "outputId": "6955b831-73ca-4599-b9db-422105b31213"
      },
      "source": [
        "bitcoin.groupby(\"weekday\")[\"close\"].mean().plot()"
      ],
      "execution_count": null,
      "outputs": [
        {
          "output_type": "execute_result",
          "data": {
            "text/plain": [
              "<matplotlib.axes._subplots.AxesSubplot at 0x7f71e5c59b50>"
            ]
          },
          "metadata": {
            "tags": []
          },
          "execution_count": 125
        },
        {
          "output_type": "display_data",
          "data": {
            "image/png": "[encoded data removed]",
            "text/plain": [
              "<Figure size 432x288 with 1 Axes>"
            ]
          },
          "metadata": {
            "tags": [],
            "needs_background": "light"
          }
        }
      ]
    },
    {
      "cell_type": "markdown",
      "metadata": {
        "id": "plZYahokFvu9"
      },
      "source": [
        "#Объем торгов в USD по дням недели"
      ]
    },
    {
      "cell_type": "code",
      "metadata": {
        "colab": {
          "base_uri": "https://localhost:8080/",
          "height": 307
        },
        "id": "A96kDBfOFs0I",
        "outputId": "7ee06a53-3002-4b29-f40b-c6d406f31c66"
      },
      "source": [
        "bitcoin.groupby(\"weekday\")[\"Volume USD\"].mean().plot()"
      ],
      "execution_count": null,
      "outputs": [
        {
          "output_type": "execute_result",
          "data": {
            "text/plain": [
              "<matplotlib.axes._subplots.AxesSubplot at 0x7f71e5bcf190>"
            ]
          },
          "metadata": {
            "tags": []
          },
          "execution_count": 126
        },
        {
          "output_type": "display_data",
          "data": {
            "image/png": "[encoded data removed]",
            "text/plain": [
              "<Figure size 432x288 with 1 Axes>"
            ]
          },
          "metadata": {
            "tags": [],
            "needs_background": "light"
          }
        }
      ]
    },
    {
      "cell_type": "code",
      "metadata": {
        "colab": {
          "base_uri": "https://localhost:8080/",
          "height": 136
        },
        "id": "yC0pHOkwGbdn",
        "outputId": "1a70ead9-e326-49b8-d7ff-266cf665b9ca"
      },
      "source": [
        "bitcoin.head(3)"
      ],
      "execution_count": null,
      "outputs": [
        {
          "output_type": "execute_result",
          "data": {
            "text/html": [
              "<div>\n",
              "<style scoped>\n",
              "    .dataframe tbody tr th:only-of-type {\n",
              "        vertical-align: middle;\n",
              "    }\n",
              "\n",
              "    .dataframe tbody tr th {\n",
              "        vertical-align: top;\n",
              "    }\n",
              "\n",
              "    .dataframe thead th {\n",
              "        text-align: right;\n",
              "    }\n",
              "</style>\n",
              "<table border=\"1\" class=\"dataframe\">\n",
              "  <thead>\n",
              "    <tr style=\"text-align: right;\">\n",
              "      <th></th>\n",
              "      <th>unix</th>\n",
              "      <th>date</th>\n",
              "      <th>symbol</th>\n",
              "      <th>open</th>\n",
              "      <th>high</th>\n",
              "      <th>low</th>\n",
              "      <th>close</th>\n",
              "      <th>Volume USD</th>\n",
              "      <th>Volume BTC</th>\n",
              "      <th>weekday</th>\n",
              "      <th>year</th>\n",
              "      <th>month</th>\n",
              "    </tr>\n",
              "  </thead>\n",
              "  <tbody>\n",
              "    <tr>\n",
              "      <th>0</th>\n",
              "      <td>1488240000</td>\n",
              "      <td>2017-02-28</td>\n",
              "      <td>BTC/USD</td>\n",
              "      <td>1195.5</td>\n",
              "      <td>1216.0</td>\n",
              "      <td>1176.6</td>\n",
              "      <td>1189.1</td>\n",
              "      <td>16251499.88</td>\n",
              "      <td>13608.74</td>\n",
              "      <td>1</td>\n",
              "      <td>2017</td>\n",
              "      <td>2</td>\n",
              "    </tr>\n",
              "    <tr>\n",
              "      <th>1</th>\n",
              "      <td>1488326400</td>\n",
              "      <td>2017-03-01</td>\n",
              "      <td>BTC/USD</td>\n",
              "      <td>1189.1</td>\n",
              "      <td>1236.4</td>\n",
              "      <td>1186.0</td>\n",
              "      <td>1233.2</td>\n",
              "      <td>20165589.45</td>\n",
              "      <td>16589.62</td>\n",
              "      <td>2</td>\n",
              "      <td>2017</td>\n",
              "      <td>3</td>\n",
              "    </tr>\n",
              "    <tr>\n",
              "      <th>2</th>\n",
              "      <td>1488412800</td>\n",
              "      <td>2017-03-02</td>\n",
              "      <td>BTC/USD</td>\n",
              "      <td>1233.2</td>\n",
              "      <td>1285.9</td>\n",
              "      <td>1212.0</td>\n",
              "      <td>1258.0</td>\n",
              "      <td>26536494.73</td>\n",
              "      <td>21274.82</td>\n",
              "      <td>3</td>\n",
              "      <td>2017</td>\n",
              "      <td>3</td>\n",
              "    </tr>\n",
              "  </tbody>\n",
              "</table>\n",
              "</div>"
            ],
            "text/plain": [
              "         unix       date   symbol    open  ...  Volume BTC  weekday  year  month\n",
              "0  1488240000 2017-02-28  BTC/USD  1195.5  ...    13608.74        1  2017      2\n",
              "1  1488326400 2017-03-01  BTC/USD  1189.1  ...    16589.62        2  2017      3\n",
              "2  1488412800 2017-03-02  BTC/USD  1233.2  ...    21274.82        3  2017      3\n",
              "\n",
              "[3 rows x 12 columns]"
            ]
          },
          "metadata": {
            "tags": []
          },
          "execution_count": 127
        }
      ]
    },
    {
      "cell_type": "code",
      "metadata": {
        "id": "YmiwokuxGhcF"
      },
      "source": [
        "# open - close — не имеет смысла \n",
        "# (open-close) / (high-low) — имеет смысл\n",
        "# volume USD - Volume BTC"
      ],
      "execution_count": null,
      "outputs": []
    },
    {
      "cell_type": "code",
      "metadata": {
        "id": "DvX1yazpGpJh"
      },
      "source": [
        "bitcoin[\"open2high\"] = ((bitcoin[\"open\"] - bitcoin[\"close\"]) / (bitcoin[\"high\"] - bitcoin[\"low\"])).abs()     # инициировали переменную \"open2high\""
      ],
      "execution_count": null,
      "outputs": []
    },
    {
      "cell_type": "code",
      "metadata": {
        "id": "4oYVXYS6Grn7"
      },
      "source": [
        "for day in range(1,15):\n",
        "  bitcoin[f\"close_d{day}\"] = bitcoin[\"close\"].shift(day)                       #делаем смещение на 1 день\n",
        "\n",
        "\n",
        "bitcoin[\"close_avg_2m\"] = bitcoin[\"close\"].shift(1).rolling(window=60).mean()  # добавили столбец, где отображаем среднее значения закрытия за 2 месяца (со смещением на 1 день)\n",
        "bitcoin.fillna(method=\"bfill\", inplace=True)                                   # заполняем средними значениями пустые ячейки\n",
        "bitcoin.drop(columns=[\"unix\", \"date\", \"symbol\"], axis=1, inplace=True)         # удаляем столбцы \"unix\", \"date\" и \"symbol\""
      ],
      "execution_count": null,
      "outputs": []
    },
    {
      "cell_type": "code",
      "metadata": {
        "colab": {
          "base_uri": "https://localhost:8080/",
          "height": 528
        },
        "id": "eah51lkIGwgO",
        "outputId": "fc3e45da-283e-44d4-d3c4-4f9019aa7785"
      },
      "source": [
        "bitcoin.head(15)"
      ],
      "execution_count": null,
      "outputs": [
        {
          "output_type": "execute_result",
          "data": {
            "text/html": [
              "<div>\n",
              "<style scoped>\n",
              "    .dataframe tbody tr th:only-of-type {\n",
              "        vertical-align: middle;\n",
              "    }\n",
              "\n",
              "    .dataframe tbody tr th {\n",
              "        vertical-align: top;\n",
              "    }\n",
              "\n",
              "    .dataframe thead th {\n",
              "        text-align: right;\n",
              "    }\n",
              "</style>\n",
              "<table border=\"1\" class=\"dataframe\">\n",
              "  <thead>\n",
              "    <tr style=\"text-align: right;\">\n",
              "      <th></th>\n",
              "      <th>open</th>\n",
              "      <th>high</th>\n",
              "      <th>low</th>\n",
              "      <th>close</th>\n",
              "      <th>Volume USD</th>\n",
              "      <th>Volume BTC</th>\n",
              "      <th>weekday</th>\n",
              "      <th>year</th>\n",
              "      <th>month</th>\n",
              "      <th>open2high</th>\n",
              "      <th>close_d1</th>\n",
              "      <th>close_d2</th>\n",
              "      <th>close_d3</th>\n",
              "      <th>close_d4</th>\n",
              "      <th>close_d5</th>\n",
              "      <th>close_d6</th>\n",
              "      <th>close_d7</th>\n",
              "      <th>close_d8</th>\n",
              "      <th>close_d9</th>\n",
              "      <th>close_d10</th>\n",
              "      <th>close_d11</th>\n",
              "      <th>close_d12</th>\n",
              "      <th>close_d13</th>\n",
              "      <th>close_d14</th>\n",
              "      <th>close_avg_2m</th>\n",
              "    </tr>\n",
              "  </thead>\n",
              "  <tbody>\n",
              "    <tr>\n",
              "      <th>0</th>\n",
              "      <td>1195.5</td>\n",
              "      <td>1216.0</td>\n",
              "      <td>1176.6</td>\n",
              "      <td>1189.1</td>\n",
              "      <td>16251499.88</td>\n",
              "      <td>13608.74</td>\n",
              "      <td>1</td>\n",
              "      <td>2017</td>\n",
              "      <td>2</td>\n",
              "      <td>0.162437</td>\n",
              "      <td>1189.1</td>\n",
              "      <td>1189.1</td>\n",
              "      <td>1189.1</td>\n",
              "      <td>1189.1</td>\n",
              "      <td>1189.1</td>\n",
              "      <td>1189.1</td>\n",
              "      <td>1189.1</td>\n",
              "      <td>1189.1</td>\n",
              "      <td>1189.1</td>\n",
              "      <td>1189.1</td>\n",
              "      <td>1189.1</td>\n",
              "      <td>1189.1</td>\n",
              "      <td>1189.1</td>\n",
              "      <td>1189.1</td>\n",
              "      <td>1186.611667</td>\n",
              "    </tr>\n",
              "    <tr>\n",
              "      <th>1</th>\n",
              "      <td>1189.1</td>\n",
              "      <td>1236.4</td>\n",
              "      <td>1186.0</td>\n",
              "      <td>1233.2</td>\n",
              "      <td>20165589.45</td>\n",
              "      <td>16589.62</td>\n",
              "      <td>2</td>\n",
              "      <td>2017</td>\n",
              "      <td>3</td>\n",
              "      <td>0.875000</td>\n",
              "      <td>1189.1</td>\n",
              "      <td>1189.1</td>\n",
              "      <td>1189.1</td>\n",
              "      <td>1189.1</td>\n",
              "      <td>1189.1</td>\n",
              "      <td>1189.1</td>\n",
              "      <td>1189.1</td>\n",
              "      <td>1189.1</td>\n",
              "      <td>1189.1</td>\n",
              "      <td>1189.1</td>\n",
              "      <td>1189.1</td>\n",
              "      <td>1189.1</td>\n",
              "      <td>1189.1</td>\n",
              "      <td>1189.1</td>\n",
              "      <td>1186.611667</td>\n",
              "    </tr>\n",
              "    <tr>\n",
              "      <th>2</th>\n",
              "      <td>1233.2</td>\n",
              "      <td>1285.9</td>\n",
              "      <td>1212.0</td>\n",
              "      <td>1258.0</td>\n",
              "      <td>26536494.73</td>\n",
              "      <td>21274.82</td>\n",
              "      <td>3</td>\n",
              "      <td>2017</td>\n",
              "      <td>3</td>\n",
              "      <td>0.335589</td>\n",
              "      <td>1233.2</td>\n",
              "      <td>1189.1</td>\n",
              "      <td>1189.1</td>\n",
              "      <td>1189.1</td>\n",
              "      <td>1189.1</td>\n",
              "      <td>1189.1</td>\n",
              "      <td>1189.1</td>\n",
              "      <td>1189.1</td>\n",
              "      <td>1189.1</td>\n",
              "      <td>1189.1</td>\n",
              "      <td>1189.1</td>\n",
              "      <td>1189.1</td>\n",
              "      <td>1189.1</td>\n",
              "      <td>1189.1</td>\n",
              "      <td>1186.611667</td>\n",
              "    </tr>\n",
              "    <tr>\n",
              "      <th>3</th>\n",
              "      <td>1258.0</td>\n",
              "      <td>1294.9</td>\n",
              "      <td>1256.2</td>\n",
              "      <td>1289.2</td>\n",
              "      <td>20748814.46</td>\n",
              "      <td>16223.73</td>\n",
              "      <td>4</td>\n",
              "      <td>2017</td>\n",
              "      <td>3</td>\n",
              "      <td>0.806202</td>\n",
              "      <td>1258.0</td>\n",
              "      <td>1233.2</td>\n",
              "      <td>1189.1</td>\n",
              "      <td>1189.1</td>\n",
              "      <td>1189.1</td>\n",
              "      <td>1189.1</td>\n",
              "      <td>1189.1</td>\n",
              "      <td>1189.1</td>\n",
              "      <td>1189.1</td>\n",
              "      <td>1189.1</td>\n",
              "      <td>1189.1</td>\n",
              "      <td>1189.1</td>\n",
              "      <td>1189.1</td>\n",
              "      <td>1189.1</td>\n",
              "      <td>1186.611667</td>\n",
              "    </tr>\n",
              "    <tr>\n",
              "      <th>4</th>\n",
              "      <td>1289.2</td>\n",
              "      <td>1291.9</td>\n",
              "      <td>1240.0</td>\n",
              "      <td>1267.8</td>\n",
              "      <td>14131545.81</td>\n",
              "      <td>11156.61</td>\n",
              "      <td>5</td>\n",
              "      <td>2017</td>\n",
              "      <td>3</td>\n",
              "      <td>0.412331</td>\n",
              "      <td>1289.2</td>\n",
              "      <td>1258.0</td>\n",
              "      <td>1233.2</td>\n",
              "      <td>1189.1</td>\n",
              "      <td>1189.1</td>\n",
              "      <td>1189.1</td>\n",
              "      <td>1189.1</td>\n",
              "      <td>1189.1</td>\n",
              "      <td>1189.1</td>\n",
              "      <td>1189.1</td>\n",
              "      <td>1189.1</td>\n",
              "      <td>1189.1</td>\n",
              "      <td>1189.1</td>\n",
              "      <td>1189.1</td>\n",
              "      <td>1186.611667</td>\n",
              "    </tr>\n",
              "    <tr>\n",
              "      <th>5</th>\n",
              "      <td>1267.8</td>\n",
              "      <td>1279.9</td>\n",
              "      <td>1245.0</td>\n",
              "      <td>1278.4</td>\n",
              "      <td>8495853.37</td>\n",
              "      <td>6711.15</td>\n",
              "      <td>6</td>\n",
              "      <td>2017</td>\n",
              "      <td>3</td>\n",
              "      <td>0.303725</td>\n",
              "      <td>1267.8</td>\n",
              "      <td>1289.2</td>\n",
              "      <td>1258.0</td>\n",
              "      <td>1233.2</td>\n",
              "      <td>1189.1</td>\n",
              "      <td>1189.1</td>\n",
              "      <td>1189.1</td>\n",
              "      <td>1189.1</td>\n",
              "      <td>1189.1</td>\n",
              "      <td>1189.1</td>\n",
              "      <td>1189.1</td>\n",
              "      <td>1189.1</td>\n",
              "      <td>1189.1</td>\n",
              "      <td>1189.1</td>\n",
              "      <td>1186.611667</td>\n",
              "    </tr>\n",
              "    <tr>\n",
              "      <th>6</th>\n",
              "      <td>1278.4</td>\n",
              "      <td>1287.8</td>\n",
              "      <td>1268.0</td>\n",
              "      <td>1279.2</td>\n",
              "      <td>10069995.03</td>\n",
              "      <td>7875.30</td>\n",
              "      <td>0</td>\n",
              "      <td>2017</td>\n",
              "      <td>3</td>\n",
              "      <td>0.040404</td>\n",
              "      <td>1278.4</td>\n",
              "      <td>1267.8</td>\n",
              "      <td>1289.2</td>\n",
              "      <td>1258.0</td>\n",
              "      <td>1233.2</td>\n",
              "      <td>1189.1</td>\n",
              "      <td>1189.1</td>\n",
              "      <td>1189.1</td>\n",
              "      <td>1189.1</td>\n",
              "      <td>1189.1</td>\n",
              "      <td>1189.1</td>\n",
              "      <td>1189.1</td>\n",
              "      <td>1189.1</td>\n",
              "      <td>1189.1</td>\n",
              "      <td>1186.611667</td>\n",
              "    </tr>\n",
              "    <tr>\n",
              "      <th>7</th>\n",
              "      <td>1279.2</td>\n",
              "      <td>1282.0</td>\n",
              "      <td>1185.0</td>\n",
              "      <td>1232.4</td>\n",
              "      <td>35444302.78</td>\n",
              "      <td>28634.69</td>\n",
              "      <td>1</td>\n",
              "      <td>2017</td>\n",
              "      <td>3</td>\n",
              "      <td>0.482474</td>\n",
              "      <td>1279.2</td>\n",
              "      <td>1278.4</td>\n",
              "      <td>1267.8</td>\n",
              "      <td>1289.2</td>\n",
              "      <td>1258.0</td>\n",
              "      <td>1233.2</td>\n",
              "      <td>1189.1</td>\n",
              "      <td>1189.1</td>\n",
              "      <td>1189.1</td>\n",
              "      <td>1189.1</td>\n",
              "      <td>1189.1</td>\n",
              "      <td>1189.1</td>\n",
              "      <td>1189.1</td>\n",
              "      <td>1189.1</td>\n",
              "      <td>1186.611667</td>\n",
              "    </tr>\n",
              "    <tr>\n",
              "      <th>8</th>\n",
              "      <td>1232.4</td>\n",
              "      <td>1243.6</td>\n",
              "      <td>1142.2</td>\n",
              "      <td>1150.0</td>\n",
              "      <td>41164704.13</td>\n",
              "      <td>34649.53</td>\n",
              "      <td>2</td>\n",
              "      <td>2017</td>\n",
              "      <td>3</td>\n",
              "      <td>0.812623</td>\n",
              "      <td>1232.4</td>\n",
              "      <td>1279.2</td>\n",
              "      <td>1278.4</td>\n",
              "      <td>1267.8</td>\n",
              "      <td>1289.2</td>\n",
              "      <td>1258.0</td>\n",
              "      <td>1233.2</td>\n",
              "      <td>1189.1</td>\n",
              "      <td>1189.1</td>\n",
              "      <td>1189.1</td>\n",
              "      <td>1189.1</td>\n",
              "      <td>1189.1</td>\n",
              "      <td>1189.1</td>\n",
              "      <td>1189.1</td>\n",
              "      <td>1186.611667</td>\n",
              "    </tr>\n",
              "    <tr>\n",
              "      <th>9</th>\n",
              "      <td>1150.0</td>\n",
              "      <td>1207.6</td>\n",
              "      <td>1136.0</td>\n",
              "      <td>1190.4</td>\n",
              "      <td>22985798.25</td>\n",
              "      <td>19542.81</td>\n",
              "      <td>3</td>\n",
              "      <td>2017</td>\n",
              "      <td>3</td>\n",
              "      <td>0.564246</td>\n",
              "      <td>1150.0</td>\n",
              "      <td>1232.4</td>\n",
              "      <td>1279.2</td>\n",
              "      <td>1278.4</td>\n",
              "      <td>1267.8</td>\n",
              "      <td>1289.2</td>\n",
              "      <td>1258.0</td>\n",
              "      <td>1233.2</td>\n",
              "      <td>1189.1</td>\n",
              "      <td>1189.1</td>\n",
              "      <td>1189.1</td>\n",
              "      <td>1189.1</td>\n",
              "      <td>1189.1</td>\n",
              "      <td>1189.1</td>\n",
              "      <td>1186.611667</td>\n",
              "    </tr>\n",
              "    <tr>\n",
              "      <th>10</th>\n",
              "      <td>1190.4</td>\n",
              "      <td>1338.7</td>\n",
              "      <td>958.5</td>\n",
              "      <td>1115.4</td>\n",
              "      <td>66675093.83</td>\n",
              "      <td>56612.42</td>\n",
              "      <td>4</td>\n",
              "      <td>2017</td>\n",
              "      <td>3</td>\n",
              "      <td>0.197265</td>\n",
              "      <td>1190.4</td>\n",
              "      <td>1150.0</td>\n",
              "      <td>1232.4</td>\n",
              "      <td>1279.2</td>\n",
              "      <td>1278.4</td>\n",
              "      <td>1267.8</td>\n",
              "      <td>1289.2</td>\n",
              "      <td>1258.0</td>\n",
              "      <td>1233.2</td>\n",
              "      <td>1189.1</td>\n",
              "      <td>1189.1</td>\n",
              "      <td>1189.1</td>\n",
              "      <td>1189.1</td>\n",
              "      <td>1189.1</td>\n",
              "      <td>1186.611667</td>\n",
              "    </tr>\n",
              "    <tr>\n",
              "      <th>11</th>\n",
              "      <td>1115.4</td>\n",
              "      <td>1196.6</td>\n",
              "      <td>1101.2</td>\n",
              "      <td>1172.4</td>\n",
              "      <td>27539084.24</td>\n",
              "      <td>23699.40</td>\n",
              "      <td>5</td>\n",
              "      <td>2017</td>\n",
              "      <td>3</td>\n",
              "      <td>0.597484</td>\n",
              "      <td>1115.4</td>\n",
              "      <td>1190.4</td>\n",
              "      <td>1150.0</td>\n",
              "      <td>1232.4</td>\n",
              "      <td>1279.2</td>\n",
              "      <td>1278.4</td>\n",
              "      <td>1267.8</td>\n",
              "      <td>1289.2</td>\n",
              "      <td>1258.0</td>\n",
              "      <td>1233.2</td>\n",
              "      <td>1189.1</td>\n",
              "      <td>1189.1</td>\n",
              "      <td>1189.1</td>\n",
              "      <td>1189.1</td>\n",
              "      <td>1186.611667</td>\n",
              "    </tr>\n",
              "    <tr>\n",
              "      <th>12</th>\n",
              "      <td>1172.4</td>\n",
              "      <td>1232.7</td>\n",
              "      <td>1166.8</td>\n",
              "      <td>1224.4</td>\n",
              "      <td>16371340.63</td>\n",
              "      <td>13629.31</td>\n",
              "      <td>6</td>\n",
              "      <td>2017</td>\n",
              "      <td>3</td>\n",
              "      <td>0.789074</td>\n",
              "      <td>1172.4</td>\n",
              "      <td>1115.4</td>\n",
              "      <td>1190.4</td>\n",
              "      <td>1150.0</td>\n",
              "      <td>1232.4</td>\n",
              "      <td>1279.2</td>\n",
              "      <td>1278.4</td>\n",
              "      <td>1267.8</td>\n",
              "      <td>1289.2</td>\n",
              "      <td>1258.0</td>\n",
              "      <td>1233.2</td>\n",
              "      <td>1189.1</td>\n",
              "      <td>1189.1</td>\n",
              "      <td>1189.1</td>\n",
              "      <td>1186.611667</td>\n",
              "    </tr>\n",
              "    <tr>\n",
              "      <th>13</th>\n",
              "      <td>1224.4</td>\n",
              "      <td>1247.3</td>\n",
              "      <td>1206.7</td>\n",
              "      <td>1238.5</td>\n",
              "      <td>21246366.91</td>\n",
              "      <td>17282.94</td>\n",
              "      <td>0</td>\n",
              "      <td>2017</td>\n",
              "      <td>3</td>\n",
              "      <td>0.347291</td>\n",
              "      <td>1224.4</td>\n",
              "      <td>1172.4</td>\n",
              "      <td>1115.4</td>\n",
              "      <td>1190.4</td>\n",
              "      <td>1150.0</td>\n",
              "      <td>1232.4</td>\n",
              "      <td>1279.2</td>\n",
              "      <td>1278.4</td>\n",
              "      <td>1267.8</td>\n",
              "      <td>1289.2</td>\n",
              "      <td>1258.0</td>\n",
              "      <td>1233.2</td>\n",
              "      <td>1189.1</td>\n",
              "      <td>1189.1</td>\n",
              "      <td>1186.611667</td>\n",
              "    </tr>\n",
              "    <tr>\n",
              "      <th>14</th>\n",
              "      <td>1238.5</td>\n",
              "      <td>1258.8</td>\n",
              "      <td>1218.9</td>\n",
              "      <td>1245.0</td>\n",
              "      <td>16837507.40</td>\n",
              "      <td>13549.92</td>\n",
              "      <td>1</td>\n",
              "      <td>2017</td>\n",
              "      <td>3</td>\n",
              "      <td>0.162907</td>\n",
              "      <td>1238.5</td>\n",
              "      <td>1224.4</td>\n",
              "      <td>1172.4</td>\n",
              "      <td>1115.4</td>\n",
              "      <td>1190.4</td>\n",
              "      <td>1150.0</td>\n",
              "      <td>1232.4</td>\n",
              "      <td>1279.2</td>\n",
              "      <td>1278.4</td>\n",
              "      <td>1267.8</td>\n",
              "      <td>1289.2</td>\n",
              "      <td>1258.0</td>\n",
              "      <td>1233.2</td>\n",
              "      <td>1189.1</td>\n",
              "      <td>1186.611667</td>\n",
              "    </tr>\n",
              "  </tbody>\n",
              "</table>\n",
              "</div>"
            ],
            "text/plain": [
              "      open    high     low  ...  close_d13  close_d14  close_avg_2m\n",
              "0   1195.5  1216.0  1176.6  ...     1189.1     1189.1   1186.611667\n",
              "1   1189.1  1236.4  1186.0  ...     1189.1     1189.1   1186.611667\n",
              "2   1233.2  1285.9  1212.0  ...     1189.1     1189.1   1186.611667\n",
              "3   1258.0  1294.9  1256.2  ...     1189.1     1189.1   1186.611667\n",
              "4   1289.2  1291.9  1240.0  ...     1189.1     1189.1   1186.611667\n",
              "5   1267.8  1279.9  1245.0  ...     1189.1     1189.1   1186.611667\n",
              "6   1278.4  1287.8  1268.0  ...     1189.1     1189.1   1186.611667\n",
              "7   1279.2  1282.0  1185.0  ...     1189.1     1189.1   1186.611667\n",
              "8   1232.4  1243.6  1142.2  ...     1189.1     1189.1   1186.611667\n",
              "9   1150.0  1207.6  1136.0  ...     1189.1     1189.1   1186.611667\n",
              "10  1190.4  1338.7   958.5  ...     1189.1     1189.1   1186.611667\n",
              "11  1115.4  1196.6  1101.2  ...     1189.1     1189.1   1186.611667\n",
              "12  1172.4  1232.7  1166.8  ...     1189.1     1189.1   1186.611667\n",
              "13  1224.4  1247.3  1206.7  ...     1189.1     1189.1   1186.611667\n",
              "14  1238.5  1258.8  1218.9  ...     1233.2     1189.1   1186.611667\n",
              "\n",
              "[15 rows x 25 columns]"
            ]
          },
          "metadata": {
            "tags": []
          },
          "execution_count": 130
        }
      ]
    },
    {
      "cell_type": "code",
      "metadata": {
        "id": "k7LDUblJXbS5"
      },
      "source": [
        "bitcoin = pd.get_dummies(bitcoin, columns=[\"weekday\", \"year\", \"month\"])  # раскладываем эти столбцы в бинарные значения ..."
      ],
      "execution_count": null,
      "outputs": []
    },
    {
      "cell_type": "code",
      "metadata": {
        "colab": {
          "base_uri": "https://localhost:8080/"
        },
        "id": "ATG42hWsXdbl",
        "outputId": "c7c5e42f-253a-48fe-ddea-331aedbb2f59"
      },
      "source": [
        "bitcoin.shape                                                            # ... и получаем 46 столбцов вместо 9 изначальных"
      ],
      "execution_count": null,
      "outputs": [
        {
          "output_type": "execute_result",
          "data": {
            "text/plain": [
              "(1505, 46)"
            ]
          },
          "metadata": {
            "tags": []
          },
          "execution_count": 85
        }
      ]
    },
    {
      "cell_type": "code",
      "metadata": {
        "colab": {
          "base_uri": "https://localhost:8080/",
          "height": 363
        },
        "id": "S0Jnw7_aXkbo",
        "outputId": "c2fb75ee-c782-467f-ca76-c2e6c7ba8684"
      },
      "source": [
        "bitcoin.tail(10)"
      ],
      "execution_count": null,
      "outputs": [
        {
          "output_type": "execute_result",
          "data": {
            "text/html": [
              "<div>\n",
              "<style scoped>\n",
              "    .dataframe tbody tr th:only-of-type {\n",
              "        vertical-align: middle;\n",
              "    }\n",
              "\n",
              "    .dataframe tbody tr th {\n",
              "        vertical-align: top;\n",
              "    }\n",
              "\n",
              "    .dataframe thead th {\n",
              "        text-align: right;\n",
              "    }\n",
              "</style>\n",
              "<table border=\"1\" class=\"dataframe\">\n",
              "  <thead>\n",
              "    <tr style=\"text-align: right;\">\n",
              "      <th></th>\n",
              "      <th>open</th>\n",
              "      <th>high</th>\n",
              "      <th>low</th>\n",
              "      <th>close</th>\n",
              "      <th>Volume USD</th>\n",
              "      <th>Volume BTC</th>\n",
              "      <th>open2high</th>\n",
              "      <th>close_d1</th>\n",
              "      <th>close_d2</th>\n",
              "      <th>close_d3</th>\n",
              "      <th>close_d4</th>\n",
              "      <th>close_d5</th>\n",
              "      <th>close_d6</th>\n",
              "      <th>close_d7</th>\n",
              "      <th>close_d8</th>\n",
              "      <th>close_d9</th>\n",
              "      <th>close_d10</th>\n",
              "      <th>close_d11</th>\n",
              "      <th>close_d12</th>\n",
              "      <th>close_d13</th>\n",
              "      <th>close_d14</th>\n",
              "      <th>close_avg_2m</th>\n",
              "      <th>weekday_0</th>\n",
              "      <th>weekday_1</th>\n",
              "      <th>weekday_2</th>\n",
              "      <th>weekday_3</th>\n",
              "      <th>weekday_4</th>\n",
              "      <th>weekday_5</th>\n",
              "      <th>weekday_6</th>\n",
              "      <th>year_2017</th>\n",
              "      <th>year_2018</th>\n",
              "      <th>year_2019</th>\n",
              "      <th>year_2020</th>\n",
              "      <th>year_2021</th>\n",
              "      <th>month_1</th>\n",
              "      <th>month_2</th>\n",
              "      <th>month_3</th>\n",
              "      <th>month_4</th>\n",
              "      <th>month_5</th>\n",
              "      <th>month_6</th>\n",
              "      <th>month_7</th>\n",
              "      <th>month_8</th>\n",
              "      <th>month_9</th>\n",
              "      <th>month_10</th>\n",
              "      <th>month_11</th>\n",
              "      <th>month_12</th>\n",
              "    </tr>\n",
              "  </thead>\n",
              "  <tbody>\n",
              "    <tr>\n",
              "      <th>1495</th>\n",
              "      <td>58958.195190</td>\n",
              "      <td>59841.0</td>\n",
              "      <td>56872.0</td>\n",
              "      <td>57020.000000</td>\n",
              "      <td>3.782785e+08</td>\n",
              "      <td>6634.136980</td>\n",
              "      <td>0.652811</td>\n",
              "      <td>58959.000000</td>\n",
              "      <td>58724.000000</td>\n",
              "      <td>58796.000000</td>\n",
              "      <td>58840.000000</td>\n",
              "      <td>57675.000000</td>\n",
              "      <td>55780.000000</td>\n",
              "      <td>55886.000000</td>\n",
              "      <td>54993.000000</td>\n",
              "      <td>51358.0</td>\n",
              "      <td>52328.0</td>\n",
              "      <td>54336.799828</td>\n",
              "      <td>54070.000000</td>\n",
              "      <td>57366.000000</td>\n",
              "      <td>58079.000000</td>\n",
              "      <td>51360.302850</td>\n",
              "      <td>0</td>\n",
              "      <td>0</td>\n",
              "      <td>0</td>\n",
              "      <td>0</td>\n",
              "      <td>0</td>\n",
              "      <td>1</td>\n",
              "      <td>0</td>\n",
              "      <td>0</td>\n",
              "      <td>0</td>\n",
              "      <td>0</td>\n",
              "      <td>0</td>\n",
              "      <td>1</td>\n",
              "      <td>0</td>\n",
              "      <td>0</td>\n",
              "      <td>0</td>\n",
              "      <td>1</td>\n",
              "      <td>0</td>\n",
              "      <td>0</td>\n",
              "      <td>0</td>\n",
              "      <td>0</td>\n",
              "      <td>0</td>\n",
              "      <td>0</td>\n",
              "      <td>0</td>\n",
              "      <td>0</td>\n",
              "    </tr>\n",
              "    <tr>\n",
              "      <th>1496</th>\n",
              "      <td>57029.000000</td>\n",
              "      <td>58480.0</td>\n",
              "      <td>56500.0</td>\n",
              "      <td>58240.239187</td>\n",
              "      <td>2.895681e+08</td>\n",
              "      <td>4971.959006</td>\n",
              "      <td>0.611737</td>\n",
              "      <td>57020.000000</td>\n",
              "      <td>58959.000000</td>\n",
              "      <td>58724.000000</td>\n",
              "      <td>58796.000000</td>\n",
              "      <td>58840.000000</td>\n",
              "      <td>57675.000000</td>\n",
              "      <td>55780.000000</td>\n",
              "      <td>55886.000000</td>\n",
              "      <td>54993.0</td>\n",
              "      <td>51358.0</td>\n",
              "      <td>52328.000000</td>\n",
              "      <td>54336.799828</td>\n",
              "      <td>54070.000000</td>\n",
              "      <td>57366.000000</td>\n",
              "      <td>51717.686183</td>\n",
              "      <td>0</td>\n",
              "      <td>0</td>\n",
              "      <td>0</td>\n",
              "      <td>0</td>\n",
              "      <td>0</td>\n",
              "      <td>0</td>\n",
              "      <td>1</td>\n",
              "      <td>0</td>\n",
              "      <td>0</td>\n",
              "      <td>0</td>\n",
              "      <td>0</td>\n",
              "      <td>1</td>\n",
              "      <td>0</td>\n",
              "      <td>0</td>\n",
              "      <td>0</td>\n",
              "      <td>1</td>\n",
              "      <td>0</td>\n",
              "      <td>0</td>\n",
              "      <td>0</td>\n",
              "      <td>0</td>\n",
              "      <td>0</td>\n",
              "      <td>0</td>\n",
              "      <td>0</td>\n",
              "      <td>0</td>\n",
              "    </tr>\n",
              "    <tr>\n",
              "      <th>1497</th>\n",
              "      <td>58241.000000</td>\n",
              "      <td>59250.0</td>\n",
              "      <td>56850.0</td>\n",
              "      <td>59145.000000</td>\n",
              "      <td>3.309305e+08</td>\n",
              "      <td>5595.239989</td>\n",
              "      <td>0.376667</td>\n",
              "      <td>58240.239187</td>\n",
              "      <td>57020.000000</td>\n",
              "      <td>58959.000000</td>\n",
              "      <td>58724.000000</td>\n",
              "      <td>58796.000000</td>\n",
              "      <td>58840.000000</td>\n",
              "      <td>57675.000000</td>\n",
              "      <td>55780.000000</td>\n",
              "      <td>55886.0</td>\n",
              "      <td>54993.0</td>\n",
              "      <td>51358.000000</td>\n",
              "      <td>52328.000000</td>\n",
              "      <td>54336.799828</td>\n",
              "      <td>54070.000000</td>\n",
              "      <td>52060.573503</td>\n",
              "      <td>1</td>\n",
              "      <td>0</td>\n",
              "      <td>0</td>\n",
              "      <td>0</td>\n",
              "      <td>0</td>\n",
              "      <td>0</td>\n",
              "      <td>0</td>\n",
              "      <td>0</td>\n",
              "      <td>0</td>\n",
              "      <td>0</td>\n",
              "      <td>0</td>\n",
              "      <td>1</td>\n",
              "      <td>0</td>\n",
              "      <td>0</td>\n",
              "      <td>0</td>\n",
              "      <td>1</td>\n",
              "      <td>0</td>\n",
              "      <td>0</td>\n",
              "      <td>0</td>\n",
              "      <td>0</td>\n",
              "      <td>0</td>\n",
              "      <td>0</td>\n",
              "      <td>0</td>\n",
              "      <td>0</td>\n",
              "    </tr>\n",
              "    <tr>\n",
              "      <th>1498</th>\n",
              "      <td>59145.000000</td>\n",
              "      <td>59499.0</td>\n",
              "      <td>57401.0</td>\n",
              "      <td>57991.000000</td>\n",
              "      <td>3.257186e+08</td>\n",
              "      <td>5616.709752</td>\n",
              "      <td>0.550048</td>\n",
              "      <td>59145.000000</td>\n",
              "      <td>58240.239187</td>\n",
              "      <td>57020.000000</td>\n",
              "      <td>58959.000000</td>\n",
              "      <td>58724.000000</td>\n",
              "      <td>58796.000000</td>\n",
              "      <td>58840.000000</td>\n",
              "      <td>57675.000000</td>\n",
              "      <td>55780.0</td>\n",
              "      <td>55886.0</td>\n",
              "      <td>54993.000000</td>\n",
              "      <td>51358.000000</td>\n",
              "      <td>52328.000000</td>\n",
              "      <td>54336.799828</td>\n",
              "      <td>52430.464365</td>\n",
              "      <td>0</td>\n",
              "      <td>1</td>\n",
              "      <td>0</td>\n",
              "      <td>0</td>\n",
              "      <td>0</td>\n",
              "      <td>0</td>\n",
              "      <td>0</td>\n",
              "      <td>0</td>\n",
              "      <td>0</td>\n",
              "      <td>0</td>\n",
              "      <td>0</td>\n",
              "      <td>1</td>\n",
              "      <td>0</td>\n",
              "      <td>0</td>\n",
              "      <td>0</td>\n",
              "      <td>1</td>\n",
              "      <td>0</td>\n",
              "      <td>0</td>\n",
              "      <td>0</td>\n",
              "      <td>0</td>\n",
              "      <td>0</td>\n",
              "      <td>0</td>\n",
              "      <td>0</td>\n",
              "      <td>0</td>\n",
              "    </tr>\n",
              "    <tr>\n",
              "      <th>1499</th>\n",
              "      <td>57994.000000</td>\n",
              "      <td>58639.0</td>\n",
              "      <td>55555.0</td>\n",
              "      <td>55962.000000</td>\n",
              "      <td>4.951918e+08</td>\n",
              "      <td>8848.715118</td>\n",
              "      <td>0.658885</td>\n",
              "      <td>57991.000000</td>\n",
              "      <td>59145.000000</td>\n",
              "      <td>58240.239187</td>\n",
              "      <td>57020.000000</td>\n",
              "      <td>58959.000000</td>\n",
              "      <td>58724.000000</td>\n",
              "      <td>58796.000000</td>\n",
              "      <td>58840.000000</td>\n",
              "      <td>57675.0</td>\n",
              "      <td>55780.0</td>\n",
              "      <td>55886.000000</td>\n",
              "      <td>54993.000000</td>\n",
              "      <td>51358.000000</td>\n",
              "      <td>52328.000000</td>\n",
              "      <td>52759.314365</td>\n",
              "      <td>0</td>\n",
              "      <td>0</td>\n",
              "      <td>1</td>\n",
              "      <td>0</td>\n",
              "      <td>0</td>\n",
              "      <td>0</td>\n",
              "      <td>0</td>\n",
              "      <td>0</td>\n",
              "      <td>0</td>\n",
              "      <td>0</td>\n",
              "      <td>0</td>\n",
              "      <td>1</td>\n",
              "      <td>0</td>\n",
              "      <td>0</td>\n",
              "      <td>0</td>\n",
              "      <td>1</td>\n",
              "      <td>0</td>\n",
              "      <td>0</td>\n",
              "      <td>0</td>\n",
              "      <td>0</td>\n",
              "      <td>0</td>\n",
              "      <td>0</td>\n",
              "      <td>0</td>\n",
              "      <td>0</td>\n",
              "    </tr>\n",
              "    <tr>\n",
              "      <th>1500</th>\n",
              "      <td>55962.000000</td>\n",
              "      <td>58155.0</td>\n",
              "      <td>55714.0</td>\n",
              "      <td>58110.000000</td>\n",
              "      <td>2.604657e+08</td>\n",
              "      <td>4482.287596</td>\n",
              "      <td>0.879967</td>\n",
              "      <td>55962.000000</td>\n",
              "      <td>57991.000000</td>\n",
              "      <td>59145.000000</td>\n",
              "      <td>58240.239187</td>\n",
              "      <td>57020.000000</td>\n",
              "      <td>58959.000000</td>\n",
              "      <td>58724.000000</td>\n",
              "      <td>58796.000000</td>\n",
              "      <td>58840.0</td>\n",
              "      <td>57675.0</td>\n",
              "      <td>55780.000000</td>\n",
              "      <td>55886.000000</td>\n",
              "      <td>54993.000000</td>\n",
              "      <td>51358.000000</td>\n",
              "      <td>53038.114365</td>\n",
              "      <td>0</td>\n",
              "      <td>0</td>\n",
              "      <td>0</td>\n",
              "      <td>1</td>\n",
              "      <td>0</td>\n",
              "      <td>0</td>\n",
              "      <td>0</td>\n",
              "      <td>0</td>\n",
              "      <td>0</td>\n",
              "      <td>0</td>\n",
              "      <td>0</td>\n",
              "      <td>1</td>\n",
              "      <td>0</td>\n",
              "      <td>0</td>\n",
              "      <td>0</td>\n",
              "      <td>1</td>\n",
              "      <td>0</td>\n",
              "      <td>0</td>\n",
              "      <td>0</td>\n",
              "      <td>0</td>\n",
              "      <td>0</td>\n",
              "      <td>0</td>\n",
              "      <td>0</td>\n",
              "      <td>0</td>\n",
              "    </tr>\n",
              "    <tr>\n",
              "      <th>1501</th>\n",
              "      <td>58110.000000</td>\n",
              "      <td>58880.0</td>\n",
              "      <td>57713.0</td>\n",
              "      <td>58134.000000</td>\n",
              "      <td>2.179731e+08</td>\n",
              "      <td>3749.493697</td>\n",
              "      <td>0.020566</td>\n",
              "      <td>58110.000000</td>\n",
              "      <td>55962.000000</td>\n",
              "      <td>57991.000000</td>\n",
              "      <td>59145.000000</td>\n",
              "      <td>58240.239187</td>\n",
              "      <td>57020.000000</td>\n",
              "      <td>58959.000000</td>\n",
              "      <td>58724.000000</td>\n",
              "      <td>58796.0</td>\n",
              "      <td>58840.0</td>\n",
              "      <td>57675.000000</td>\n",
              "      <td>55780.000000</td>\n",
              "      <td>55886.000000</td>\n",
              "      <td>54993.000000</td>\n",
              "      <td>53359.331031</td>\n",
              "      <td>0</td>\n",
              "      <td>0</td>\n",
              "      <td>0</td>\n",
              "      <td>0</td>\n",
              "      <td>1</td>\n",
              "      <td>0</td>\n",
              "      <td>0</td>\n",
              "      <td>0</td>\n",
              "      <td>0</td>\n",
              "      <td>0</td>\n",
              "      <td>0</td>\n",
              "      <td>1</td>\n",
              "      <td>0</td>\n",
              "      <td>0</td>\n",
              "      <td>0</td>\n",
              "      <td>1</td>\n",
              "      <td>0</td>\n",
              "      <td>0</td>\n",
              "      <td>0</td>\n",
              "      <td>0</td>\n",
              "      <td>0</td>\n",
              "      <td>0</td>\n",
              "      <td>0</td>\n",
              "      <td>0</td>\n",
              "    </tr>\n",
              "    <tr>\n",
              "      <th>1502</th>\n",
              "      <td>58134.090643</td>\n",
              "      <td>61243.0</td>\n",
              "      <td>57900.0</td>\n",
              "      <td>59812.000000</td>\n",
              "      <td>5.858312e+08</td>\n",
              "      <td>9794.542479</td>\n",
              "      <td>0.501917</td>\n",
              "      <td>58134.000000</td>\n",
              "      <td>58110.000000</td>\n",
              "      <td>55962.000000</td>\n",
              "      <td>57991.000000</td>\n",
              "      <td>59145.000000</td>\n",
              "      <td>58240.239187</td>\n",
              "      <td>57020.000000</td>\n",
              "      <td>58959.000000</td>\n",
              "      <td>58724.0</td>\n",
              "      <td>58796.0</td>\n",
              "      <td>58840.000000</td>\n",
              "      <td>57675.000000</td>\n",
              "      <td>55780.000000</td>\n",
              "      <td>55886.000000</td>\n",
              "      <td>53554.164365</td>\n",
              "      <td>0</td>\n",
              "      <td>0</td>\n",
              "      <td>0</td>\n",
              "      <td>0</td>\n",
              "      <td>0</td>\n",
              "      <td>1</td>\n",
              "      <td>0</td>\n",
              "      <td>0</td>\n",
              "      <td>0</td>\n",
              "      <td>0</td>\n",
              "      <td>0</td>\n",
              "      <td>1</td>\n",
              "      <td>0</td>\n",
              "      <td>0</td>\n",
              "      <td>0</td>\n",
              "      <td>1</td>\n",
              "      <td>0</td>\n",
              "      <td>0</td>\n",
              "      <td>0</td>\n",
              "      <td>0</td>\n",
              "      <td>0</td>\n",
              "      <td>0</td>\n",
              "      <td>0</td>\n",
              "      <td>0</td>\n",
              "    </tr>\n",
              "    <tr>\n",
              "      <th>1503</th>\n",
              "      <td>59817.073785</td>\n",
              "      <td>60722.0</td>\n",
              "      <td>59308.0</td>\n",
              "      <td>60032.000000</td>\n",
              "      <td>2.789436e+08</td>\n",
              "      <td>4646.581998</td>\n",
              "      <td>0.151999</td>\n",
              "      <td>59812.000000</td>\n",
              "      <td>58134.000000</td>\n",
              "      <td>58110.000000</td>\n",
              "      <td>55962.000000</td>\n",
              "      <td>57991.000000</td>\n",
              "      <td>59145.000000</td>\n",
              "      <td>58240.239187</td>\n",
              "      <td>57020.000000</td>\n",
              "      <td>58959.0</td>\n",
              "      <td>58724.0</td>\n",
              "      <td>58796.000000</td>\n",
              "      <td>58840.000000</td>\n",
              "      <td>57675.000000</td>\n",
              "      <td>55780.000000</td>\n",
              "      <td>53776.231031</td>\n",
              "      <td>0</td>\n",
              "      <td>0</td>\n",
              "      <td>0</td>\n",
              "      <td>0</td>\n",
              "      <td>0</td>\n",
              "      <td>0</td>\n",
              "      <td>1</td>\n",
              "      <td>0</td>\n",
              "      <td>0</td>\n",
              "      <td>0</td>\n",
              "      <td>0</td>\n",
              "      <td>1</td>\n",
              "      <td>0</td>\n",
              "      <td>0</td>\n",
              "      <td>0</td>\n",
              "      <td>1</td>\n",
              "      <td>0</td>\n",
              "      <td>0</td>\n",
              "      <td>0</td>\n",
              "      <td>0</td>\n",
              "      <td>0</td>\n",
              "      <td>0</td>\n",
              "      <td>0</td>\n",
              "      <td>0</td>\n",
              "    </tr>\n",
              "    <tr>\n",
              "      <th>1504</th>\n",
              "      <td>60033.000000</td>\n",
              "      <td>61338.0</td>\n",
              "      <td>59492.0</td>\n",
              "      <td>59874.000000</td>\n",
              "      <td>3.291828e+08</td>\n",
              "      <td>5497.925195</td>\n",
              "      <td>0.086132</td>\n",
              "      <td>60032.000000</td>\n",
              "      <td>59812.000000</td>\n",
              "      <td>58134.000000</td>\n",
              "      <td>58110.000000</td>\n",
              "      <td>55962.000000</td>\n",
              "      <td>57991.000000</td>\n",
              "      <td>59145.000000</td>\n",
              "      <td>58240.239187</td>\n",
              "      <td>57020.0</td>\n",
              "      <td>58959.0</td>\n",
              "      <td>58724.000000</td>\n",
              "      <td>58796.000000</td>\n",
              "      <td>58840.000000</td>\n",
              "      <td>57675.000000</td>\n",
              "      <td>54029.414365</td>\n",
              "      <td>1</td>\n",
              "      <td>0</td>\n",
              "      <td>0</td>\n",
              "      <td>0</td>\n",
              "      <td>0</td>\n",
              "      <td>0</td>\n",
              "      <td>0</td>\n",
              "      <td>0</td>\n",
              "      <td>0</td>\n",
              "      <td>0</td>\n",
              "      <td>0</td>\n",
              "      <td>1</td>\n",
              "      <td>0</td>\n",
              "      <td>0</td>\n",
              "      <td>0</td>\n",
              "      <td>1</td>\n",
              "      <td>0</td>\n",
              "      <td>0</td>\n",
              "      <td>0</td>\n",
              "      <td>0</td>\n",
              "      <td>0</td>\n",
              "      <td>0</td>\n",
              "      <td>0</td>\n",
              "      <td>0</td>\n",
              "    </tr>\n",
              "  </tbody>\n",
              "</table>\n",
              "</div>"
            ],
            "text/plain": [
              "              open     high      low  ...  month_10  month_11  month_12\n",
              "1495  58958.195190  59841.0  56872.0  ...         0         0         0\n",
              "1496  57029.000000  58480.0  56500.0  ...         0         0         0\n",
              "1497  58241.000000  59250.0  56850.0  ...         0         0         0\n",
              "1498  59145.000000  59499.0  57401.0  ...         0         0         0\n",
              "1499  57994.000000  58639.0  55555.0  ...         0         0         0\n",
              "1500  55962.000000  58155.0  55714.0  ...         0         0         0\n",
              "1501  58110.000000  58880.0  57713.0  ...         0         0         0\n",
              "1502  58134.090643  61243.0  57900.0  ...         0         0         0\n",
              "1503  59817.073785  60722.0  59308.0  ...         0         0         0\n",
              "1504  60033.000000  61338.0  59492.0  ...         0         0         0\n",
              "\n",
              "[10 rows x 46 columns]"
            ]
          },
          "metadata": {
            "tags": []
          },
          "execution_count": 86
        }
      ]
    },
    {
      "cell_type": "code",
      "metadata": {
        "id": "SCLjWdlhXxri"
      },
      "source": [
        "bitcoin[\"target\"] = bitcoin[\"close\"].shift(-1)\n",
        "bitcoin.dropna(inplace=True)"
      ],
      "execution_count": null,
      "outputs": []
    },
    {
      "cell_type": "markdown",
      "metadata": {
        "id": "0Xd4nZAmQoth"
      },
      "source": [
        "# Учебник (тренировочная выборка / обучающая)\n",
        "\n",
        "X_train = ?\n",
        "\n",
        "y_train = ?\n",
        "\n",
        "# Экзамен (тестовая выборка / проверочная)\n",
        "\n",
        "X_test = ?\n",
        "\n",
        "y_test = ?"
      ]
    },
    {
      "cell_type": "code",
      "metadata": {
        "id": "nUlxEZdNQtL3"
      },
      "source": [
        "from sklearn.model_selection import train_test_split  #делим датасет на тестовые и обучающие наборы данных\n",
        "from sklearn.preprocessing import StandardScaler"
      ],
      "execution_count": null,
      "outputs": []
    },
    {
      "cell_type": "code",
      "metadata": {
        "id": "NkGHFoAtRKgJ"
      },
      "source": [
        "\n",
        "X = bitcoin.drop(\"target\", axis=1)                    # убираем из таблицы столбец \"target\", потому что его мы будем предсказывать в y\n",
        "\n",
        "scaler = StandardScaler()\n",
        "X = scaler.fit_transform(X)\n",
        "\n",
        "y = bitcoin[\"target\"]\n",
        "X_train, X_test, y_train, y_test = train_test_split(X, y, test_size = 0.30)   # устанавливаем размер тестового набора данных в 30% от всего датасета"
      ],
      "execution_count": null,
      "outputs": []
    },
    {
      "cell_type": "code",
      "metadata": {
        "id": "nKlhIdEtXEe4"
      },
      "source": [
        ""
      ],
      "execution_count": null,
      "outputs": []
    },
    {
      "cell_type": "code",
      "metadata": {
        "colab": {
          "base_uri": "https://localhost:8080/"
        },
        "id": "gMhUAPPXRySM",
        "outputId": "d00eebc7-4ebb-4bcd-952d-5a1201567b45"
      },
      "source": [
        "from sklearn.linear_model import LinearRegression     # импортируем алгоритм линейной регрессии\n",
        "model = LinearRegression(normalize=True)\n",
        "model.fit(X_train, y_train)                           # обучаем модель по указанному выше алгоритму линейной регрессии"
      ],
      "execution_count": null,
      "outputs": [
        {
          "output_type": "execute_result",
          "data": {
            "text/plain": [
              "LinearRegression(copy_X=True, fit_intercept=True, n_jobs=None, normalize=True)"
            ]
          },
          "metadata": {
            "tags": []
          },
          "execution_count": 90
        }
      ]
    },
    {
      "cell_type": "code",
      "metadata": {
        "id": "Re3kKOWjX_sF"
      },
      "source": [
        "cols = bitcoin.drop(\"target\", axis=1).columns"
      ],
      "execution_count": null,
      "outputs": []
    },
    {
      "cell_type": "code",
      "metadata": {
        "colab": {
          "base_uri": "https://localhost:8080/",
          "height": 1000
        },
        "id": "AL0yzFvIYDpH",
        "outputId": "c16762ce-437c-4a21-f89b-01ee4c62cc60"
      },
      "source": [
        "pd.DataFrame(data=[model.coef_], columns=cols).T   #транспонируем"
      ],
      "execution_count": null,
      "outputs": [
        {
          "output_type": "execute_result",
          "data": {
            "text/html": [
              "<div>\n",
              "<style scoped>\n",
              "    .dataframe tbody tr th:only-of-type {\n",
              "        vertical-align: middle;\n",
              "    }\n",
              "\n",
              "    .dataframe tbody tr th {\n",
              "        vertical-align: top;\n",
              "    }\n",
              "\n",
              "    .dataframe thead th {\n",
              "        text-align: right;\n",
              "    }\n",
              "</style>\n",
              "<table border=\"1\" class=\"dataframe\">\n",
              "  <thead>\n",
              "    <tr style=\"text-align: right;\">\n",
              "      <th></th>\n",
              "      <th>0</th>\n",
              "    </tr>\n",
              "  </thead>\n",
              "  <tbody>\n",
              "    <tr>\n",
              "      <th>open</th>\n",
              "      <td>66279.848194</td>\n",
              "    </tr>\n",
              "    <tr>\n",
              "      <th>high</th>\n",
              "      <td>-961.431286</td>\n",
              "    </tr>\n",
              "    <tr>\n",
              "      <th>low</th>\n",
              "      <td>-374.506279</td>\n",
              "    </tr>\n",
              "    <tr>\n",
              "      <th>close</th>\n",
              "      <td>10813.797387</td>\n",
              "    </tr>\n",
              "    <tr>\n",
              "      <th>Volume USD</th>\n",
              "      <td>-52.389404</td>\n",
              "    </tr>\n",
              "    <tr>\n",
              "      <th>Volume BTC</th>\n",
              "      <td>66.821316</td>\n",
              "    </tr>\n",
              "    <tr>\n",
              "      <th>open2high</th>\n",
              "      <td>14.854910</td>\n",
              "    </tr>\n",
              "    <tr>\n",
              "      <th>close_d1</th>\n",
              "      <td>-63634.302639</td>\n",
              "    </tr>\n",
              "    <tr>\n",
              "      <th>close_d2</th>\n",
              "      <td>-164.292274</td>\n",
              "    </tr>\n",
              "    <tr>\n",
              "      <th>close_d3</th>\n",
              "      <td>-980.603298</td>\n",
              "    </tr>\n",
              "    <tr>\n",
              "      <th>close_d4</th>\n",
              "      <td>-402.692786</td>\n",
              "    </tr>\n",
              "    <tr>\n",
              "      <th>close_d5</th>\n",
              "      <td>999.369857</td>\n",
              "    </tr>\n",
              "    <tr>\n",
              "      <th>close_d6</th>\n",
              "      <td>-1503.793619</td>\n",
              "    </tr>\n",
              "    <tr>\n",
              "      <th>close_d7</th>\n",
              "      <td>688.752943</td>\n",
              "    </tr>\n",
              "    <tr>\n",
              "      <th>close_d8</th>\n",
              "      <td>-371.990289</td>\n",
              "    </tr>\n",
              "    <tr>\n",
              "      <th>close_d9</th>\n",
              "      <td>1248.064657</td>\n",
              "    </tr>\n",
              "    <tr>\n",
              "      <th>close_d10</th>\n",
              "      <td>-850.175000</td>\n",
              "    </tr>\n",
              "    <tr>\n",
              "      <th>close_d11</th>\n",
              "      <td>-515.783006</td>\n",
              "    </tr>\n",
              "    <tr>\n",
              "      <th>close_d12</th>\n",
              "      <td>-953.840282</td>\n",
              "    </tr>\n",
              "    <tr>\n",
              "      <th>close_d13</th>\n",
              "      <td>662.213295</td>\n",
              "    </tr>\n",
              "    <tr>\n",
              "      <th>close_d14</th>\n",
              "      <td>519.257542</td>\n",
              "    </tr>\n",
              "    <tr>\n",
              "      <th>close_avg_2m</th>\n",
              "      <td>279.320557</td>\n",
              "    </tr>\n",
              "    <tr>\n",
              "      <th>weekday_0</th>\n",
              "      <td>4.656405</td>\n",
              "    </tr>\n",
              "    <tr>\n",
              "      <th>weekday_1</th>\n",
              "      <td>6.130444</td>\n",
              "    </tr>\n",
              "    <tr>\n",
              "      <th>weekday_2</th>\n",
              "      <td>-9.690442</td>\n",
              "    </tr>\n",
              "    <tr>\n",
              "      <th>weekday_3</th>\n",
              "      <td>11.083750</td>\n",
              "    </tr>\n",
              "    <tr>\n",
              "      <th>weekday_4</th>\n",
              "      <td>2.035636</td>\n",
              "    </tr>\n",
              "    <tr>\n",
              "      <th>weekday_5</th>\n",
              "      <td>-18.933583</td>\n",
              "    </tr>\n",
              "    <tr>\n",
              "      <th>weekday_6</th>\n",
              "      <td>6.049581</td>\n",
              "    </tr>\n",
              "    <tr>\n",
              "      <th>year_2017</th>\n",
              "      <td>-22.782828</td>\n",
              "    </tr>\n",
              "    <tr>\n",
              "      <th>year_2018</th>\n",
              "      <td>-61.576673</td>\n",
              "    </tr>\n",
              "    <tr>\n",
              "      <th>year_2019</th>\n",
              "      <td>-15.133190</td>\n",
              "    </tr>\n",
              "    <tr>\n",
              "      <th>year_2020</th>\n",
              "      <td>12.006733</td>\n",
              "    </tr>\n",
              "    <tr>\n",
              "      <th>year_2021</th>\n",
              "      <td>153.684546</td>\n",
              "    </tr>\n",
              "    <tr>\n",
              "      <th>month_1</th>\n",
              "      <td>-31.443042</td>\n",
              "    </tr>\n",
              "    <tr>\n",
              "      <th>month_2</th>\n",
              "      <td>28.480354</td>\n",
              "    </tr>\n",
              "    <tr>\n",
              "      <th>month_3</th>\n",
              "      <td>-40.068395</td>\n",
              "    </tr>\n",
              "    <tr>\n",
              "      <th>month_4</th>\n",
              "      <td>-18.253616</td>\n",
              "    </tr>\n",
              "    <tr>\n",
              "      <th>month_5</th>\n",
              "      <td>20.005183</td>\n",
              "    </tr>\n",
              "    <tr>\n",
              "      <th>month_6</th>\n",
              "      <td>-2.343437</td>\n",
              "    </tr>\n",
              "    <tr>\n",
              "      <th>month_7</th>\n",
              "      <td>10.104390</td>\n",
              "    </tr>\n",
              "    <tr>\n",
              "      <th>month_8</th>\n",
              "      <td>2.390739</td>\n",
              "    </tr>\n",
              "    <tr>\n",
              "      <th>month_9</th>\n",
              "      <td>-12.785206</td>\n",
              "    </tr>\n",
              "    <tr>\n",
              "      <th>month_10</th>\n",
              "      <td>2.861018</td>\n",
              "    </tr>\n",
              "    <tr>\n",
              "      <th>month_11</th>\n",
              "      <td>10.147327</td>\n",
              "    </tr>\n",
              "    <tr>\n",
              "      <th>month_12</th>\n",
              "      <td>31.560557</td>\n",
              "    </tr>\n",
              "  </tbody>\n",
              "</table>\n",
              "</div>"
            ],
            "text/plain": [
              "                         0\n",
              "open          66279.848194\n",
              "high           -961.431286\n",
              "low            -374.506279\n",
              "close         10813.797387\n",
              "Volume USD      -52.389404\n",
              "Volume BTC       66.821316\n",
              "open2high        14.854910\n",
              "close_d1     -63634.302639\n",
              "close_d2       -164.292274\n",
              "close_d3       -980.603298\n",
              "close_d4       -402.692786\n",
              "close_d5        999.369857\n",
              "close_d6      -1503.793619\n",
              "close_d7        688.752943\n",
              "close_d8       -371.990289\n",
              "close_d9       1248.064657\n",
              "close_d10      -850.175000\n",
              "close_d11      -515.783006\n",
              "close_d12      -953.840282\n",
              "close_d13       662.213295\n",
              "close_d14       519.257542\n",
              "close_avg_2m    279.320557\n",
              "weekday_0         4.656405\n",
              "weekday_1         6.130444\n",
              "weekday_2        -9.690442\n",
              "weekday_3        11.083750\n",
              "weekday_4         2.035636\n",
              "weekday_5       -18.933583\n",
              "weekday_6         6.049581\n",
              "year_2017       -22.782828\n",
              "year_2018       -61.576673\n",
              "year_2019       -15.133190\n",
              "year_2020        12.006733\n",
              "year_2021       153.684546\n",
              "month_1         -31.443042\n",
              "month_2          28.480354\n",
              "month_3         -40.068395\n",
              "month_4         -18.253616\n",
              "month_5          20.005183\n",
              "month_6          -2.343437\n",
              "month_7          10.104390\n",
              "month_8           2.390739\n",
              "month_9         -12.785206\n",
              "month_10          2.861018\n",
              "month_11         10.147327\n",
              "month_12         31.560557"
            ]
          },
          "metadata": {
            "tags": []
          },
          "execution_count": 92
        }
      ]
    },
    {
      "cell_type": "markdown",
      "metadata": {
        "id": "7YHNt9ASYP9q"
      },
      "source": [
        "#Проверка модели с помощью измерения величины ошибки"
      ]
    },
    {
      "cell_type": "code",
      "metadata": {
        "id": "vHT8WN3QYTrT"
      },
      "source": [
        "from sklearn.metrics import mean_absolute_error\n",
        "from sklearn.metrics import max_error\n",
        "from sklearn.metrics import r2_score"
      ],
      "execution_count": null,
      "outputs": []
    },
    {
      "cell_type": "code",
      "metadata": {
        "colab": {
          "base_uri": "https://localhost:8080/",
          "height": 399
        },
        "id": "m0h1GG50YZlY",
        "outputId": "5468866b-b58b-4624-988d-127f34cec031"
      },
      "source": [
        "import matplotlib.pyplot as plt\n",
        "y_pred = model.predict(X_test)                                  # проверяем тестовый набор\n",
        "plt.plot(y, label=\"Actual\")\n",
        "plt.plot(model.predict(X), label=\"Predicted\")\n",
        "plt.legend()\n",
        "print(\"TEST\")   \n",
        "print(\"MAE\", mean_absolute_error(y_pred, y_test))              # ... на среднюю абсолютную ошибку (отклонение)\n",
        "print(\"MAX\", max_error(y_pred, y_test))                        # ... на максимальную ошибку (отклонение)\n",
        "print(\"R2\", r2_score(y_pred, y_test))                          # ... на R квадрат\n",
        "\n",
        "\n",
        "y_full_prediction = model.predict(X)                           # проверяем обучающий набор\n",
        "print(\"TRAIN\")\n",
        "print(\"MAE\", mean_absolute_error(y_full_prediction, y))\n",
        "print(\"MAX\", max_error(y_full_prediction, y))\n",
        "print(\"R2\", r2_score(y_full_prediction, y))"
      ],
      "execution_count": null,
      "outputs": [
        {
          "output_type": "stream",
          "text": [
            "TEST\n",
            "MAE 347.2567842746365\n",
            "MAX 6232.983289117714\n",
            "R2 0.9961444188723659\n",
            "TRAIN\n",
            "MAE 329.093060088666\n",
            "MAX 6356.879688972898\n",
            "R2 0.9967097036103343\n"
          ],
          "name": "stdout"
        },
        {
          "output_type": "display_data",
          "data": {
            "image/png": "[encoded data removed]",
            "text/plain": [
              "<Figure size 432x288 with 1 Axes>"
            ]
          },
          "metadata": {
            "tags": [],
            "needs_background": "light"
          }
        }
      ]
    },
    {
      "cell_type": "code",
      "metadata": {
        "colab": {
          "base_uri": "https://localhost:8080/",
          "height": 282
        },
        "id": "N3Nd8R9Kdz15",
        "outputId": "aac051bf-0ad7-4105-c73a-601fa19aa8e5"
      },
      "source": [
        "plt.plot(y-model.predict(X), label=\"MAE\")           # средняя абсолютная ошибка (отклонение), график\n",
        "plt.legend()"
      ],
      "execution_count": null,
      "outputs": [
        {
          "output_type": "execute_result",
          "data": {
            "text/plain": [
              "<matplotlib.legend.Legend at 0x7f71e5ff7390>"
            ]
          },
          "metadata": {
            "tags": []
          },
          "execution_count": 95
        },
        {
          "output_type": "display_data",
          "data": {
            "image/png": "[encoded data removed]",
            "text/plain": [
              "<Figure size 432x288 with 1 Axes>"
            ]
          },
          "metadata": {
            "tags": [],
            "needs_background": "light"
          }
        }
      ]
    }
  ]
}