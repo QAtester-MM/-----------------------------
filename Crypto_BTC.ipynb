{
  "nbformat": 4,
  "nbformat_minor": 0,
  "metadata": {
    "colab": {
      "name": "Crypto_BTC.ipynb",
      "provenance": [],
      "authorship_tag": "ABX9TyP/2HTBMG7iXVZdOVF/VovL",
      "include_colab_link": true
    },
    "kernelspec": {
      "name": "python3",
      "display_name": "Python 3"
    },
    "language_info": {
      "name": "python"
    }
  },
  "cells": [
    {
      "cell_type": "markdown",
      "metadata": {
        "id": "view-in-github",
        "colab_type": "text"
      },
      "source": [
        "<a href=\"https://colab.research.google.com/github/QAtester-MM/-----------------------------/blob/master/Crypto_BTC.ipynb\" target=\"_parent\"><img src=\"https://colab.research.google.com/assets/colab-badge.svg\" alt=\"Open In Colab\"/></a>"
      ]
    },
    {
      "cell_type": "code",
      "metadata": {
        "id": "vb55f_By4Xmi"
      },
      "source": [
        "import zipfile\n",
        "with zipfile.ZipFile(\"/content/BitFinexData.zip\", \"r\") as zipf:\n",
        "  zipf.extractall(\"/content/bitfinex/\")"
      ],
      "execution_count": 6,
      "outputs": []
    },
    {
      "cell_type": "code",
      "metadata": {
        "colab": {
          "base_uri": "https://localhost:8080/",
          "height": 195
        },
        "id": "QaPxWAPO4yUO",
        "outputId": "bbfce8ed-0b78-4eed-9915-137b2cf2b721"
      },
      "source": [
        "import pandas as pd\n",
        "bitcoin = pd.read_csv(\"/content/bitfinex/Bitfinex_BTCUSD_d.csv\", skiprows=1)[1:-750]\n",
        "bitcoin[\"date\"] = pd.to_datetime(bitcoin[\"date\"])\n",
        "bitcoin = bitcoin[::-1]\n",
        "bitcoin = bitcoin.reset_index(drop=True)\n",
        "bitcoin.head()"
      ],
      "execution_count": 8,
      "outputs": [
        {
          "output_type": "execute_result",
          "data": {
            "text/html": [
              "<div>\n",
              "<style scoped>\n",
              "    .dataframe tbody tr th:only-of-type {\n",
              "        vertical-align: middle;\n",
              "    }\n",
              "\n",
              "    .dataframe tbody tr th {\n",
              "        vertical-align: top;\n",
              "    }\n",
              "\n",
              "    .dataframe thead th {\n",
              "        text-align: right;\n",
              "    }\n",
              "</style>\n",
              "<table border=\"1\" class=\"dataframe\">\n",
              "  <thead>\n",
              "    <tr style=\"text-align: right;\">\n",
              "      <th></th>\n",
              "      <th>unix</th>\n",
              "      <th>date</th>\n",
              "      <th>symbol</th>\n",
              "      <th>open</th>\n",
              "      <th>high</th>\n",
              "      <th>low</th>\n",
              "      <th>close</th>\n",
              "      <th>Volume USD</th>\n",
              "      <th>Volume BTC</th>\n",
              "    </tr>\n",
              "  </thead>\n",
              "  <tbody>\n",
              "    <tr>\n",
              "      <th>0</th>\n",
              "      <td>1488240000</td>\n",
              "      <td>2017-02-28</td>\n",
              "      <td>BTC/USD</td>\n",
              "      <td>1195.5</td>\n",
              "      <td>1216.0</td>\n",
              "      <td>1176.6</td>\n",
              "      <td>1189.1</td>\n",
              "      <td>16251499.88</td>\n",
              "      <td>13608.74</td>\n",
              "    </tr>\n",
              "    <tr>\n",
              "      <th>1</th>\n",
              "      <td>1488326400</td>\n",
              "      <td>2017-03-01</td>\n",
              "      <td>BTC/USD</td>\n",
              "      <td>1189.1</td>\n",
              "      <td>1236.4</td>\n",
              "      <td>1186.0</td>\n",
              "      <td>1233.2</td>\n",
              "      <td>20165589.45</td>\n",
              "      <td>16589.62</td>\n",
              "    </tr>\n",
              "    <tr>\n",
              "      <th>2</th>\n",
              "      <td>1488412800</td>\n",
              "      <td>2017-03-02</td>\n",
              "      <td>BTC/USD</td>\n",
              "      <td>1233.2</td>\n",
              "      <td>1285.9</td>\n",
              "      <td>1212.0</td>\n",
              "      <td>1258.0</td>\n",
              "      <td>26536494.73</td>\n",
              "      <td>21274.82</td>\n",
              "    </tr>\n",
              "    <tr>\n",
              "      <th>3</th>\n",
              "      <td>1488499200</td>\n",
              "      <td>2017-03-03</td>\n",
              "      <td>BTC/USD</td>\n",
              "      <td>1258.0</td>\n",
              "      <td>1294.9</td>\n",
              "      <td>1256.2</td>\n",
              "      <td>1289.2</td>\n",
              "      <td>20748814.46</td>\n",
              "      <td>16223.73</td>\n",
              "    </tr>\n",
              "    <tr>\n",
              "      <th>4</th>\n",
              "      <td>1488585600</td>\n",
              "      <td>2017-03-04</td>\n",
              "      <td>BTC/USD</td>\n",
              "      <td>1289.2</td>\n",
              "      <td>1291.9</td>\n",
              "      <td>1240.0</td>\n",
              "      <td>1267.8</td>\n",
              "      <td>14131545.81</td>\n",
              "      <td>11156.61</td>\n",
              "    </tr>\n",
              "  </tbody>\n",
              "</table>\n",
              "</div>"
            ],
            "text/plain": [
              "         unix       date   symbol  ...   close   Volume USD  Volume BTC\n",
              "0  1488240000 2017-02-28  BTC/USD  ...  1189.1  16251499.88    13608.74\n",
              "1  1488326400 2017-03-01  BTC/USD  ...  1233.2  20165589.45    16589.62\n",
              "2  1488412800 2017-03-02  BTC/USD  ...  1258.0  26536494.73    21274.82\n",
              "3  1488499200 2017-03-03  BTC/USD  ...  1289.2  20748814.46    16223.73\n",
              "4  1488585600 2017-03-04  BTC/USD  ...  1267.8  14131545.81    11156.61\n",
              "\n",
              "[5 rows x 9 columns]"
            ]
          },
          "metadata": {
            "tags": []
          },
          "execution_count": 8
        }
      ]
    },
    {
      "cell_type": "code",
      "metadata": {
        "colab": {
          "base_uri": "https://localhost:8080/",
          "height": 195
        },
        "id": "jcu_NY5U-RsT",
        "outputId": "e0f3e432-7379-4281-e630-96007cb254be"
      },
      "source": [
        "bitcoin.tail()"
      ],
      "execution_count": 9,
      "outputs": [
        {
          "output_type": "execute_result",
          "data": {
            "text/html": [
              "<div>\n",
              "<style scoped>\n",
              "    .dataframe tbody tr th:only-of-type {\n",
              "        vertical-align: middle;\n",
              "    }\n",
              "\n",
              "    .dataframe tbody tr th {\n",
              "        vertical-align: top;\n",
              "    }\n",
              "\n",
              "    .dataframe thead th {\n",
              "        text-align: right;\n",
              "    }\n",
              "</style>\n",
              "<table border=\"1\" class=\"dataframe\">\n",
              "  <thead>\n",
              "    <tr style=\"text-align: right;\">\n",
              "      <th></th>\n",
              "      <th>unix</th>\n",
              "      <th>date</th>\n",
              "      <th>symbol</th>\n",
              "      <th>open</th>\n",
              "      <th>high</th>\n",
              "      <th>low</th>\n",
              "      <th>close</th>\n",
              "      <th>Volume USD</th>\n",
              "      <th>Volume BTC</th>\n",
              "    </tr>\n",
              "  </thead>\n",
              "  <tbody>\n",
              "    <tr>\n",
              "      <th>1500</th>\n",
              "      <td>1617840000000</td>\n",
              "      <td>2021-04-08</td>\n",
              "      <td>BTC/USD</td>\n",
              "      <td>55962.000000</td>\n",
              "      <td>58155.0</td>\n",
              "      <td>55714.0</td>\n",
              "      <td>58110.0</td>\n",
              "      <td>2.604657e+08</td>\n",
              "      <td>4482.287596</td>\n",
              "    </tr>\n",
              "    <tr>\n",
              "      <th>1501</th>\n",
              "      <td>1617926400000</td>\n",
              "      <td>2021-04-09</td>\n",
              "      <td>BTC/USD</td>\n",
              "      <td>58110.000000</td>\n",
              "      <td>58880.0</td>\n",
              "      <td>57713.0</td>\n",
              "      <td>58134.0</td>\n",
              "      <td>2.179731e+08</td>\n",
              "      <td>3749.493697</td>\n",
              "    </tr>\n",
              "    <tr>\n",
              "      <th>1502</th>\n",
              "      <td>1618012800000</td>\n",
              "      <td>2021-04-10</td>\n",
              "      <td>BTC/USD</td>\n",
              "      <td>58134.090643</td>\n",
              "      <td>61243.0</td>\n",
              "      <td>57900.0</td>\n",
              "      <td>59812.0</td>\n",
              "      <td>5.858312e+08</td>\n",
              "      <td>9794.542479</td>\n",
              "    </tr>\n",
              "    <tr>\n",
              "      <th>1503</th>\n",
              "      <td>1618099200000</td>\n",
              "      <td>2021-04-11</td>\n",
              "      <td>BTC/USD</td>\n",
              "      <td>59817.073785</td>\n",
              "      <td>60722.0</td>\n",
              "      <td>59308.0</td>\n",
              "      <td>60032.0</td>\n",
              "      <td>2.789436e+08</td>\n",
              "      <td>4646.581998</td>\n",
              "    </tr>\n",
              "    <tr>\n",
              "      <th>1504</th>\n",
              "      <td>1618185600000</td>\n",
              "      <td>2021-04-12</td>\n",
              "      <td>BTC/USD</td>\n",
              "      <td>60033.000000</td>\n",
              "      <td>61338.0</td>\n",
              "      <td>59492.0</td>\n",
              "      <td>59874.0</td>\n",
              "      <td>3.291828e+08</td>\n",
              "      <td>5497.925195</td>\n",
              "    </tr>\n",
              "  </tbody>\n",
              "</table>\n",
              "</div>"
            ],
            "text/plain": [
              "               unix       date   symbol  ...    close    Volume USD   Volume BTC\n",
              "1500  1617840000000 2021-04-08  BTC/USD  ...  58110.0  2.604657e+08  4482.287596\n",
              "1501  1617926400000 2021-04-09  BTC/USD  ...  58134.0  2.179731e+08  3749.493697\n",
              "1502  1618012800000 2021-04-10  BTC/USD  ...  59812.0  5.858312e+08  9794.542479\n",
              "1503  1618099200000 2021-04-11  BTC/USD  ...  60032.0  2.789436e+08  4646.581998\n",
              "1504  1618185600000 2021-04-12  BTC/USD  ...  59874.0  3.291828e+08  5497.925195\n",
              "\n",
              "[5 rows x 9 columns]"
            ]
          },
          "metadata": {
            "tags": []
          },
          "execution_count": 9
        }
      ]
    },
    {
      "cell_type": "code",
      "metadata": {
        "colab": {
          "base_uri": "https://localhost:8080/"
        },
        "id": "6UTlM5Ea-agp",
        "outputId": "9be93705-1174-4d7d-9d0d-45370718e1c5"
      },
      "source": [
        "bitcoin.shape"
      ],
      "execution_count": 11,
      "outputs": [
        {
          "output_type": "execute_result",
          "data": {
            "text/plain": [
              "(1505, 9)"
            ]
          },
          "metadata": {
            "tags": []
          },
          "execution_count": 11
        }
      ]
    },
    {
      "cell_type": "code",
      "metadata": {
        "colab": {
          "base_uri": "https://localhost:8080/",
          "height": 284
        },
        "id": "hgFRdgyq-xDM",
        "outputId": "42605b2d-5d23-4c3a-a7d0-94da7e25f8e2"
      },
      "source": [
        "bitcoin.describe()"
      ],
      "execution_count": 14,
      "outputs": [
        {
          "output_type": "execute_result",
          "data": {
            "text/html": [
              "<div>\n",
              "<style scoped>\n",
              "    .dataframe tbody tr th:only-of-type {\n",
              "        vertical-align: middle;\n",
              "    }\n",
              "\n",
              "    .dataframe tbody tr th {\n",
              "        vertical-align: top;\n",
              "    }\n",
              "\n",
              "    .dataframe thead th {\n",
              "        text-align: right;\n",
              "    }\n",
              "</style>\n",
              "<table border=\"1\" class=\"dataframe\">\n",
              "  <thead>\n",
              "    <tr style=\"text-align: right;\">\n",
              "      <th></th>\n",
              "      <th>unix</th>\n",
              "      <th>open</th>\n",
              "      <th>high</th>\n",
              "      <th>low</th>\n",
              "      <th>close</th>\n",
              "      <th>Volume USD</th>\n",
              "      <th>Volume BTC</th>\n",
              "    </tr>\n",
              "  </thead>\n",
              "  <tbody>\n",
              "    <tr>\n",
              "      <th>count</th>\n",
              "      <td>1.505000e+03</td>\n",
              "      <td>1505.000000</td>\n",
              "      <td>1505.000000</td>\n",
              "      <td>1505.000000</td>\n",
              "      <td>1505.000000</td>\n",
              "      <td>1.505000e+03</td>\n",
              "      <td>1505.000000</td>\n",
              "    </tr>\n",
              "    <tr>\n",
              "      <th>mean</th>\n",
              "      <td>2.873685e+11</td>\n",
              "      <td>10391.204814</td>\n",
              "      <td>10725.169079</td>\n",
              "      <td>10041.485073</td>\n",
              "      <td>10430.163678</td>\n",
              "      <td>1.776724e+08</td>\n",
              "      <td>20334.129265</td>\n",
              "    </tr>\n",
              "    <tr>\n",
              "      <th>std</th>\n",
              "      <td>6.142842e+11</td>\n",
              "      <td>10827.948289</td>\n",
              "      <td>11222.174990</td>\n",
              "      <td>10435.903384</td>\n",
              "      <td>10900.643207</td>\n",
              "      <td>2.229820e+08</td>\n",
              "      <td>20744.553716</td>\n",
              "    </tr>\n",
              "    <tr>\n",
              "      <th>min</th>\n",
              "      <td>1.488240e+09</td>\n",
              "      <td>942.130000</td>\n",
              "      <td>981.000000</td>\n",
              "      <td>888.200000</td>\n",
              "      <td>942.130000</td>\n",
              "      <td>4.390000e+02</td>\n",
              "      <td>3.079000</td>\n",
              "    </tr>\n",
              "    <tr>\n",
              "      <th>25%</th>\n",
              "      <td>1.520726e+09</td>\n",
              "      <td>5234.400000</td>\n",
              "      <td>5376.000000</td>\n",
              "      <td>5055.000000</td>\n",
              "      <td>5238.000000</td>\n",
              "      <td>4.233872e+07</td>\n",
              "      <td>6475.282595</td>\n",
              "    </tr>\n",
              "    <tr>\n",
              "      <th>50%</th>\n",
              "      <td>1.553213e+09</td>\n",
              "      <td>7974.400000</td>\n",
              "      <td>8185.000000</td>\n",
              "      <td>7711.000000</td>\n",
              "      <td>7977.850000</td>\n",
              "      <td>9.154748e+07</td>\n",
              "      <td>13149.603522</td>\n",
              "    </tr>\n",
              "    <tr>\n",
              "      <th>75%</th>\n",
              "      <td>1.585699e+09</td>\n",
              "      <td>10369.000000</td>\n",
              "      <td>10623.000000</td>\n",
              "      <td>10064.000000</td>\n",
              "      <td>10374.000000</td>\n",
              "      <td>2.204737e+08</td>\n",
              "      <td>27117.630000</td>\n",
              "    </tr>\n",
              "    <tr>\n",
              "      <th>max</th>\n",
              "      <td>1.618186e+12</td>\n",
              "      <td>61203.000000</td>\n",
              "      <td>61699.000000</td>\n",
              "      <td>59492.000000</td>\n",
              "      <td>61202.887014</td>\n",
              "      <td>2.223208e+09</td>\n",
              "      <td>189674.010000</td>\n",
              "    </tr>\n",
              "  </tbody>\n",
              "</table>\n",
              "</div>"
            ],
            "text/plain": [
              "               unix          open  ...    Volume USD     Volume BTC\n",
              "count  1.505000e+03   1505.000000  ...  1.505000e+03    1505.000000\n",
              "mean   2.873685e+11  10391.204814  ...  1.776724e+08   20334.129265\n",
              "std    6.142842e+11  10827.948289  ...  2.229820e+08   20744.553716\n",
              "min    1.488240e+09    942.130000  ...  4.390000e+02       3.079000\n",
              "25%    1.520726e+09   5234.400000  ...  4.233872e+07    6475.282595\n",
              "50%    1.553213e+09   7974.400000  ...  9.154748e+07   13149.603522\n",
              "75%    1.585699e+09  10369.000000  ...  2.204737e+08   27117.630000\n",
              "max    1.618186e+12  61203.000000  ...  2.223208e+09  189674.010000\n",
              "\n",
              "[8 rows x 7 columns]"
            ]
          },
          "metadata": {
            "tags": []
          },
          "execution_count": 14
        }
      ]
    },
    {
      "cell_type": "code",
      "metadata": {
        "colab": {
          "base_uri": "https://localhost:8080/"
        },
        "id": "ffkwS1Xd-lCk",
        "outputId": "e6fb3af7-fd71-462f-cc93-0466f978684a"
      },
      "source": [
        "bitcoin.describe"
      ],
      "execution_count": 12,
      "outputs": [
        {
          "output_type": "execute_result",
          "data": {
            "text/plain": [
              "<bound method NDFrame.describe of                unix       date   symbol  ...    close    Volume USD    Volume BTC\n",
              "0        1488240000 2017-02-28  BTC/USD  ...   1189.1  1.625150e+07  13608.740000\n",
              "1        1488326400 2017-03-01  BTC/USD  ...   1233.2  2.016559e+07  16589.620000\n",
              "2        1488412800 2017-03-02  BTC/USD  ...   1258.0  2.653649e+07  21274.820000\n",
              "3        1488499200 2017-03-03  BTC/USD  ...   1289.2  2.074881e+07  16223.730000\n",
              "4        1488585600 2017-03-04  BTC/USD  ...   1267.8  1.413155e+07  11156.610000\n",
              "...             ...        ...      ...  ...      ...           ...           ...\n",
              "1500  1617840000000 2021-04-08  BTC/USD  ...  58110.0  2.604657e+08   4482.287596\n",
              "1501  1617926400000 2021-04-09  BTC/USD  ...  58134.0  2.179731e+08   3749.493697\n",
              "1502  1618012800000 2021-04-10  BTC/USD  ...  59812.0  5.858312e+08   9794.542479\n",
              "1503  1618099200000 2021-04-11  BTC/USD  ...  60032.0  2.789436e+08   4646.581998\n",
              "1504  1618185600000 2021-04-12  BTC/USD  ...  59874.0  3.291828e+08   5497.925195\n",
              "\n",
              "[1505 rows x 9 columns]>"
            ]
          },
          "metadata": {
            "tags": []
          },
          "execution_count": 12
        }
      ]
    },
    {
      "cell_type": "markdown",
      "metadata": {
        "id": "UGihLrvq_xAD"
      },
      "source": [
        "# **Визуализация **"
      ]
    },
    {
      "cell_type": "code",
      "metadata": {
        "colab": {
          "base_uri": "https://localhost:8080/",
          "height": 282
        },
        "id": "fCEmmCah_wP0",
        "outputId": "b514270d-2b5d-4838-9d13-4f8ce12f04a9"
      },
      "source": [
        "bitcoin[\"high\"].plot()"
      ],
      "execution_count": 16,
      "outputs": [
        {
          "output_type": "execute_result",
          "data": {
            "text/plain": [
              "<matplotlib.axes._subplots.AxesSubplot at 0x7f7203409110>"
            ]
          },
          "metadata": {
            "tags": []
          },
          "execution_count": 16
        },
        {
          "output_type": "display_data",
          "data": {
            "image/png": "[encoded data removed]",
            "text/plain": [
              "<Figure size 432x288 with 1 Axes>"
            ]
          },
          "metadata": {
            "tags": [],
            "needs_background": "light"
          }
        }
      ]
    },
    {
      "cell_type": "code",
      "metadata": {
        "colab": {
          "base_uri": "https://localhost:8080/",
          "height": 293
        },
        "id": "IBYaUQznAvsn",
        "outputId": "2e55d722-c2b6-4e36-de2a-0d9376996613"
      },
      "source": [
        "bitcoin[\"Volume USD\"].plot()"
      ],
      "execution_count": 17,
      "outputs": [
        {
          "output_type": "execute_result",
          "data": {
            "text/plain": [
              "<matplotlib.axes._subplots.AxesSubplot at 0x7f720343f890>"
            ]
          },
          "metadata": {
            "tags": []
          },
          "execution_count": 17
        },
        {
          "output_type": "display_data",
          "data": {
            "image/png": "[encoded data removed]",
            "text/plain": [
              "<Figure size 432x288 with 1 Axes>"
            ]
          },
          "metadata": {
            "tags": [],
            "needs_background": "light"
          }
        }
      ]
    }
  ]
}