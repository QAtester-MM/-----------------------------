{
  "nbformat": 4,
  "nbformat_minor": 0,
  "metadata": {
    "colab": {
      "name": "Классификация_iris.ipynb",
      "provenance": [],
      "authorship_tag": "ABX9TyMJRronCXyP1FV6rmhE+dgE"
    },
    "kernelspec": {
      "name": "python3",
      "display_name": "Python 3"
    },
    "language_info": {
      "name": "python"
    }
  },
  "cells": [
    {
      "cell_type": "code",
      "metadata": {
        "id": "Xg9B_vV1mMum"
      },
      "source": [
        "import pandas as pd  \n",
        "from sklearn.metrics import classification_report  \n",
        "from sklearn.metrics import confusion_matrix  \n",
        "from sklearn.metrics import accuracy_score  \n",
        "from sklearn.neighbors import KNeighborsClassifier  \n",
        "from sklearn.svm import SVC\n",
        "from sklearn.model_selection import train_test_split\n"
      ],
      "execution_count": 29,
      "outputs": []
    },
    {
      "cell_type": "code",
      "metadata": {
        "id": "2iaN8821mOHi"
      },
      "source": [
        "sklearn.datasets.load_iris"
      ],
      "execution_count": null,
      "outputs": []
    },
    {
      "cell_type": "code",
      "metadata": {
        "id": "V2OOZ9Hkm_Q8"
      },
      "source": [
        "import zipfile\n",
        "with zipfile.ZipFile(\"/content/archive (1).zip\", \"r\") as zipf:\n",
        "  zipf.extractall(\"/content/test\")\n",
        "  zipf.extractall(\"/content/train/\")\n"
      ],
      "execution_count": 7,
      "outputs": []
    },
    {
      "cell_type": "code",
      "metadata": {
        "colab": {
          "base_uri": "https://localhost:8080/"
        },
        "id": "rmUm4kzpmOET",
        "outputId": "d98b9f09-82e0-4020-ab57-d5e15f703c3c"
      },
      "source": [
        "data = pd.read_csv('/content/train/Iris.csv')\n",
        "\n",
        "# Проверяем, всё ли правильно загрузилось\n",
        "\n",
        "print(data.head(5))  "
      ],
      "execution_count": 11,
      "outputs": [
        {
          "output_type": "stream",
          "text": [
            "   Id  SepalLengthCm  SepalWidthCm  PetalLengthCm  PetalWidthCm      Species\n",
            "0   1            5.1           3.5            1.4           0.2  Iris-setosa\n",
            "1   2            4.9           3.0            1.4           0.2  Iris-setosa\n",
            "2   3            4.7           3.2            1.3           0.2  Iris-setosa\n",
            "3   4            4.6           3.1            1.5           0.2  Iris-setosa\n",
            "4   5            5.0           3.6            1.4           0.2  Iris-setosa\n"
          ],
          "name": "stdout"
        }
      ]
    },
    {
      "cell_type": "code",
      "metadata": {
        "id": "InPDkxt4mOBm"
      },
      "source": [
        "data.drop('Id', axis=1, inplace=True)  # удаляем ненужный столбец ID"
      ],
      "execution_count": 12,
      "outputs": []
    },
    {
      "cell_type": "code",
      "metadata": {
        "colab": {
          "base_uri": "https://localhost:8080/"
        },
        "id": "_t_cL8VNn1dG",
        "outputId": "b6288b34-b4c1-40c8-9121-82f12e29f7dd"
      },
      "source": [
        "print(data.head(3)) # табличка без столбца ID"
      ],
      "execution_count": 14,
      "outputs": [
        {
          "output_type": "stream",
          "text": [
            "   SepalLengthCm  SepalWidthCm  PetalLengthCm  PetalWidthCm      Species\n",
            "0            5.1           3.5            1.4           0.2  Iris-setosa\n",
            "1            4.9           3.0            1.4           0.2  Iris-setosa\n",
            "2            4.7           3.2            1.3           0.2  Iris-setosa\n"
          ],
          "name": "stdout"
        }
      ]
    },
    {
      "cell_type": "markdown",
      "metadata": {
        "id": "AHCa29MnyOmn"
      },
      "source": [
        "# Теперь нужно определить признаки и метки:"
      ]
    },
    {
      "cell_type": "code",
      "metadata": {
        "id": "B6__kqxXn1Zr"
      },
      "source": [
        "# \".iloc\" принимает row_indexer, column_indexer  \n",
        "X = data.iloc[:,:-1].values  \n",
        "# Теперь выделим нужный столбец\n",
        "y = data['Species']"
      ],
      "execution_count": 53,
      "outputs": []
    },
    {
      "cell_type": "code",
      "metadata": {
        "colab": {
          "base_uri": "https://localhost:8080/"
        },
        "id": "m3s57mhfoNjb",
        "outputId": "84af78f2-f900-41f4-d012-7f229554f552"
      },
      "source": [
        "print(data.head(3))"
      ],
      "execution_count": 54,
      "outputs": [
        {
          "output_type": "stream",
          "text": [
            "   SepalLengthCm  SepalWidthCm  PetalLengthCm  PetalWidthCm      Species\n",
            "0            5.1           3.5            1.4           0.2  Iris-setosa\n",
            "1            4.9           3.0            1.4           0.2  Iris-setosa\n",
            "2            4.7           3.2            1.3           0.2  Iris-setosa\n"
          ],
          "name": "stdout"
        }
      ]
    },
    {
      "cell_type": "code",
      "metadata": {
        "id": "Tk-Y2ZpjoMoS"
      },
      "source": [
        "# Альтернативный способ выбора нужных столбцов:\n",
        "# X = data.iloc['SepalLengthCm', 'SepalWidthCm', 'PetalLengthCm']  "
      ],
      "execution_count": 21,
      "outputs": []
    },
    {
      "cell_type": "markdown",
      "metadata": {
        "id": "pLheRzDgoix4"
      },
      "source": [
        "# Делим датафрейм на тренировочный и тестовый наборы"
      ]
    },
    {
      "cell_type": "code",
      "metadata": {
        "id": "KQe1_kBpooxJ"
      },
      "source": [
        "# test_size показывает, какой объем данных нужно выделить для тестового набора\n",
        "# Random_state — просто сид для случайной генерации\n",
        "# Этот параметр можно использовать для воссоздания определённого результата:\n",
        "X_train, X_test, y_train, y_test = train_test_split(X, y, test_size=0.20, random_state=27)  "
      ],
      "execution_count": 26,
      "outputs": []
    },
    {
      "cell_type": "markdown",
      "metadata": {
        "id": "mFaHikmxy6vJ"
      },
      "source": [
        "проверяем, что получилось:"
      ]
    },
    {
      "cell_type": "code",
      "metadata": {
        "colab": {
          "base_uri": "https://localhost:8080/"
        },
        "id": "M6K3Gt9epNpI",
        "outputId": "928cc8b2-6061-4732-b29f-d8a0ce80f5a5"
      },
      "source": [
        "print(X_train)  \n",
        "print(y_train) "
      ],
      "execution_count": 27,
      "outputs": [
        {
          "output_type": "stream",
          "text": [
            "[[6.3 2.7 4.9 1.8]\n",
            " [5.  3.5 1.3 0.3]\n",
            " [6.4 2.7 5.3 1.9]\n",
            " [6.2 2.9 4.3 1.3]\n",
            " [6.7 3.1 4.7 1.5]\n",
            " [4.4 3.  1.3 0.2]\n",
            " [6.8 2.8 4.8 1.4]\n",
            " [6.3 2.5 5.  1.9]\n",
            " [5.8 2.7 3.9 1.2]\n",
            " [4.8 3.1 1.6 0.2]\n",
            " [4.6 3.4 1.4 0.3]\n",
            " [6.3 2.9 5.6 1.8]\n",
            " [5.9 3.2 4.8 1.8]\n",
            " [7.2 3.2 6.  1.8]\n",
            " [4.6 3.6 1.  0.2]\n",
            " [6.  2.9 4.5 1.5]\n",
            " [6.8 3.  5.5 2.1]\n",
            " [7.4 2.8 6.1 1.9]\n",
            " [6.1 2.9 4.7 1.4]\n",
            " [5.  3.5 1.6 0.6]\n",
            " [5.4 3.7 1.5 0.2]\n",
            " [5.1 3.5 1.4 0.2]\n",
            " [5.5 2.4 3.8 1.1]\n",
            " [5.2 3.5 1.5 0.2]\n",
            " [6.3 2.3 4.4 1.3]\n",
            " [5.7 3.8 1.7 0.3]\n",
            " [6.7 3.1 5.6 2.4]\n",
            " [4.8 3.4 1.6 0.2]\n",
            " [4.8 3.  1.4 0.3]\n",
            " [6.5 2.8 4.6 1.5]\n",
            " [5.8 2.7 5.1 1.9]\n",
            " [6.2 2.8 4.8 1.8]\n",
            " [5.7 3.  4.2 1.2]\n",
            " [7.1 3.  5.9 2.1]\n",
            " [6.7 3.3 5.7 2.5]\n",
            " [5.5 2.5 4.  1.3]\n",
            " [6.4 3.1 5.5 1.8]\n",
            " [6.4 2.8 5.6 2.2]\n",
            " [4.3 3.  1.1 0.1]\n",
            " [6.9 3.1 5.4 2.1]\n",
            " [5.  3.2 1.2 0.2]\n",
            " [6.5 3.  5.2 2. ]\n",
            " [6.7 3.3 5.7 2.1]\n",
            " [5.1 3.8 1.9 0.4]\n",
            " [4.9 2.4 3.3 1. ]\n",
            " [5.1 3.8 1.6 0.2]\n",
            " [5.  3.4 1.6 0.4]\n",
            " [5.8 4.  1.2 0.2]\n",
            " [5.8 2.7 4.1 1. ]\n",
            " [5.4 3.  4.5 1.5]\n",
            " [6.3 3.4 5.6 2.4]\n",
            " [6.3 3.3 6.  2.5]\n",
            " [4.5 2.3 1.3 0.3]\n",
            " [6.5 3.2 5.1 2. ]\n",
            " [4.9 3.  1.4 0.2]\n",
            " [6.6 3.  4.4 1.4]\n",
            " [5.8 2.8 5.1 2.4]\n",
            " [7.7 3.  6.1 2.3]\n",
            " [7.  3.2 4.7 1.4]\n",
            " [4.9 3.1 1.5 0.1]\n",
            " [5.9 3.  4.2 1.5]\n",
            " [6.8 3.2 5.9 2.3]\n",
            " [5.6 2.9 3.6 1.3]\n",
            " [5.8 2.7 5.1 1.9]\n",
            " [5.  2.  3.5 1. ]\n",
            " [6.2 2.2 4.5 1.5]\n",
            " [5.4 3.9 1.3 0.4]\n",
            " [6.1 2.8 4.7 1.2]\n",
            " [4.7 3.2 1.6 0.2]\n",
            " [4.4 2.9 1.4 0.2]\n",
            " [5.2 3.4 1.4 0.2]\n",
            " [5.  3.4 1.5 0.2]\n",
            " [7.2 3.6 6.1 2.5]\n",
            " [7.3 2.9 6.3 1.8]\n",
            " [5.1 3.5 1.4 0.3]\n",
            " [5.5 2.4 3.7 1. ]\n",
            " [6.9 3.1 4.9 1.5]\n",
            " [6.7 2.5 5.8 1.8]\n",
            " [5.1 3.3 1.7 0.5]\n",
            " [5.7 2.9 4.2 1.3]\n",
            " [5.6 2.8 4.9 2. ]\n",
            " [5.9 3.  5.1 1.8]\n",
            " [4.4 3.2 1.3 0.2]\n",
            " [5.4 3.9 1.7 0.4]\n",
            " [7.9 3.8 6.4 2. ]\n",
            " [5.7 2.8 4.1 1.3]\n",
            " [5.3 3.7 1.5 0.2]\n",
            " [6.1 2.6 5.6 1.4]\n",
            " [5.6 3.  4.5 1.5]\n",
            " [5.5 4.2 1.4 0.2]\n",
            " [6.  2.2 5.  1.5]\n",
            " [5.5 2.3 4.  1.3]\n",
            " [6.5 3.  5.8 2.2]\n",
            " [5.2 2.7 3.9 1.4]\n",
            " [5.1 3.4 1.5 0.2]\n",
            " [5.1 2.5 3.  1.1]\n",
            " [5.  2.3 3.3 1. ]\n",
            " [6.1 2.8 4.  1.3]\n",
            " [6.  2.2 4.  1. ]\n",
            " [7.7 2.6 6.9 2.3]\n",
            " [4.6 3.1 1.5 0.2]\n",
            " [6.4 3.2 4.5 1.5]\n",
            " [6.  3.4 4.5 1.6]\n",
            " [5.2 4.1 1.5 0.1]\n",
            " [5.7 2.6 3.5 1. ]\n",
            " [5.7 4.4 1.5 0.4]\n",
            " [6.  2.7 5.1 1.6]\n",
            " [5.  3.6 1.4 0.2]\n",
            " [6.  3.  4.8 1.8]\n",
            " [6.1 3.  4.9 1.8]\n",
            " [4.7 3.2 1.3 0.2]\n",
            " [5.7 2.5 5.  2. ]\n",
            " [6.9 3.1 5.1 2.3]\n",
            " [5.  3.  1.6 0.2]\n",
            " [4.8 3.4 1.9 0.2]\n",
            " [4.9 3.1 1.5 0.1]\n",
            " [6.3 3.3 4.7 1.6]\n",
            " [5.4 3.4 1.5 0.4]\n",
            " [6.3 2.5 4.9 1.5]\n",
            " [5.1 3.8 1.5 0.3]]\n",
            "123     Iris-virginica\n",
            "40         Iris-setosa\n",
            "111     Iris-virginica\n",
            "97     Iris-versicolor\n",
            "86     Iris-versicolor\n",
            "            ...       \n",
            "37         Iris-setosa\n",
            "56     Iris-versicolor\n",
            "31         Iris-setosa\n",
            "72     Iris-versicolor\n",
            "19         Iris-setosa\n",
            "Name: Species, Length: 120, dtype: object\n"
          ],
          "name": "stdout"
        }
      ]
    },
    {
      "cell_type": "code",
      "metadata": {
        "id": "bnjAQ3TkqNC_"
      },
      "source": [
        "SVC_model = SVC()\n",
        "# В KNN-модели нужно указать параметр n_neighbors\n",
        "# Это число точек, на которое будет смотреть \n",
        "# классификатор, чтобы определить, к какому классу принадлежит новая точка\n",
        "KNN_model = KNeighborsClassifier(n_neighbors=3)"
      ],
      "execution_count": 92,
      "outputs": []
    },
    {
      "cell_type": "code",
      "metadata": {
        "colab": {
          "base_uri": "https://localhost:8080/"
        },
        "id": "_ehF9U42q0QG",
        "outputId": "ac3d0a0e-4665-4b0e-b339-4a5bb4be9925"
      },
      "source": [
        "SVC_model.fit(X_train, y_train) \n",
        "KNN_model.fit(X_train, y_train)"
      ],
      "execution_count": 93,
      "outputs": [
        {
          "output_type": "execute_result",
          "data": {
            "text/plain": [
              "KNeighborsClassifier(algorithm='auto', leaf_size=30, metric='minkowski',\n",
              "                     metric_params=None, n_jobs=None, n_neighbors=3, p=2,\n",
              "                     weights='uniform')"
            ]
          },
          "metadata": {
            "tags": []
          },
          "execution_count": 93
        }
      ]
    },
    {
      "cell_type": "markdown",
      "metadata": {
        "id": "NnAlZAmKuGDY"
      },
      "source": [
        "# Эти команды обучили модели и теперь классификаторы могут делать прогнозы на тестовых данных, и сохранять результат в какую-либо переменную.\n",
        "\n"
      ]
    },
    {
      "cell_type": "code",
      "metadata": {
        "id": "yBxv6UA_uIMp"
      },
      "source": [
        "SVC_prediction = SVC_model.predict(X_test) \n",
        "KNN_prediction_3 = KNN_model.predict(X_test)\n"
      ],
      "execution_count": 94,
      "outputs": []
    },
    {
      "cell_type": "markdown",
      "metadata": {
        "id": "XCzyUqXbuXVL"
      },
      "source": [
        "# Теперь пришло время оценить точности классификатора."
      ]
    },
    {
      "cell_type": "code",
      "metadata": {
        "colab": {
          "base_uri": "https://localhost:8080/"
        },
        "id": "B21Iv1gVuZAb",
        "outputId": "e49f8e2f-7548-4450-806f-9324a953cfea"
      },
      "source": [
        "# Оценка точности  — простейший вариант оценки работы классификатора: как часто модель работает верно\n",
        "print(\"SVC prediction: \", accuracy_score(SVC_prediction, y_test))  \n",
        "print(\"KNN prediction 3 точки: \", accuracy_score(KNN_prediction_3, y_test))  \n",
        "# Но матрица неточности и отчёт о классификации дадут больше информации о производительности\n",
        "print(\" \")\n",
        "print(\"CONFUSION MATRIX:\")\n",
        "print(confusion_matrix(SVC_prediction, y_test))  \n",
        "print(\" \")\n",
        "print(\"CLASSIFICATION REPORT:\")\n",
        "print(classification_report(KNN_prediction, y_test))"
      ],
      "execution_count": 105,
      "outputs": [
        {
          "output_type": "stream",
          "text": [
            "SVC prediction:  0.9333333333333333\n",
            "KNN prediction 3 точки:  0.9333333333333333\n",
            " \n",
            "CONFUSION MATRIX:\n",
            "[[ 7  0  0]\n",
            " [ 0 10  1]\n",
            " [ 0  1 11]]\n",
            " \n",
            "CLASSIFICATION REPORT:\n",
            "                 precision    recall  f1-score   support\n",
            "\n",
            "    Iris-setosa       1.00      1.00      1.00         7\n",
            "Iris-versicolor       1.00      0.92      0.96        12\n",
            " Iris-virginica       0.92      1.00      0.96        11\n",
            "\n",
            "       accuracy                           0.97        30\n",
            "      macro avg       0.97      0.97      0.97        30\n",
            "   weighted avg       0.97      0.97      0.97        30\n",
            "\n"
          ],
          "name": "stdout"
        }
      ]
    },
    {
      "cell_type": "markdown",
      "metadata": {
        "id": "LjKYwGZN1K04"
      },
      "source": [
        "# а теперь для KNN возьмём 5 точек вместо 3-х ..."
      ]
    },
    {
      "cell_type": "code",
      "metadata": {
        "id": "6mMhsGm71DrA"
      },
      "source": [
        "KNN_model = KNeighborsClassifier(n_neighbors=5)"
      ],
      "execution_count": 96,
      "outputs": []
    },
    {
      "cell_type": "code",
      "metadata": {
        "colab": {
          "base_uri": "https://localhost:8080/"
        },
        "id": "aGXrqeD61nz6",
        "outputId": "f9358f27-0c28-4c38-ab60-3d8b385a2dea"
      },
      "source": [
        "KNN_model.fit(X_train, y_train)"
      ],
      "execution_count": 97,
      "outputs": [
        {
          "output_type": "execute_result",
          "data": {
            "text/plain": [
              "KNeighborsClassifier(algorithm='auto', leaf_size=30, metric='minkowski',\n",
              "                     metric_params=None, n_jobs=None, n_neighbors=5, p=2,\n",
              "                     weights='uniform')"
            ]
          },
          "metadata": {
            "tags": []
          },
          "execution_count": 97
        }
      ]
    },
    {
      "cell_type": "code",
      "metadata": {
        "id": "c6nLz6CX1Z-G"
      },
      "source": [
        "KNN_prediction_5 = KNN_model.predict(X_test)"
      ],
      "execution_count": 98,
      "outputs": []
    },
    {
      "cell_type": "code",
      "metadata": {
        "colab": {
          "base_uri": "https://localhost:8080/"
        },
        "id": "-cSegc0U2AyY",
        "outputId": "080a13b2-2320-48db-f248-30ceb6795269"
      },
      "source": [
        "print(\"KNN prediction по 5 точкам: \", accuracy_score(KNN_prediction, y_test)) "
      ],
      "execution_count": 99,
      "outputs": [
        {
          "output_type": "stream",
          "text": [
            "KNN prediction по 5 точкам:  0.9666666666666667\n"
          ],
          "name": "stdout"
        }
      ]
    },
    {
      "cell_type": "markdown",
      "metadata": {
        "id": "863brzYV20bl"
      },
      "source": [
        "#Итого:"
      ]
    },
    {
      "cell_type": "code",
      "metadata": {
        "colab": {
          "base_uri": "https://localhost:8080/"
        },
        "id": "ythVZGJl23fR",
        "outputId": "16f95f01-3888-4c26-c8ee-932c72ae2a86"
      },
      "source": [
        "print(\"SVC prediction: \", accuracy_score(SVC_prediction, y_test))  \n",
        "print(\"KNN prediction 3 точки: \", accuracy_score(KNN_prediction_3, y_test)) \n",
        "print(\"KNN prediction 5 точек: \", accuracy_score(KNN_prediction_5, y_test))  \n",
        "# Но матрица неточности и отчёт о классификации дадут больше информации о производительности\n",
        "print(\" \")\n",
        "print(\"CONFUSION MATRIX:\")\n",
        "print(confusion_matrix(SVC_prediction, y_test))  \n",
        "print(\" \")\n",
        "print(\"CLASSIFICATION REPORT:\")\n",
        "print(classification_report(KNN_prediction, y_test))"
      ],
      "execution_count": 104,
      "outputs": [
        {
          "output_type": "stream",
          "text": [
            "SVC prediction:  0.9333333333333333\n",
            "KNN prediction 3 точки:  0.9333333333333333\n",
            "KNN prediction 5 точек:  0.9666666666666667\n",
            " \n",
            "CONFUSION MATRIX:\n",
            "[[ 7  0  0]\n",
            " [ 0 10  1]\n",
            " [ 0  1 11]]\n",
            " \n",
            "CLASSIFICATION REPORT:\n",
            "                 precision    recall  f1-score   support\n",
            "\n",
            "    Iris-setosa       1.00      1.00      1.00         7\n",
            "Iris-versicolor       1.00      0.92      0.96        12\n",
            " Iris-virginica       0.92      1.00      0.96        11\n",
            "\n",
            "       accuracy                           0.97        30\n",
            "      macro avg       0.97      0.97      0.97        30\n",
            "   weighted avg       0.97      0.97      0.97        30\n",
            "\n"
          ],
          "name": "stdout"
        }
      ]
    }
  ]
}